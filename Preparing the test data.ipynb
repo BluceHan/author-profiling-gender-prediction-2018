{
 "cells": [
  {
   "cell_type": "code",
   "execution_count": 7,
   "metadata": {},
   "outputs": [],
   "source": [
    "import os\n",
    "import glob\n",
    "import ntpath\n",
    "import pandas as pd\n",
    "import numpy as np\n",
    "import xml.etree.ElementTree"
   ]
  },
  {
   "cell_type": "code",
   "execution_count": 3,
   "metadata": {},
   "outputs": [],
   "source": [
    "def path_leaf(path):\n",
    "    head, tail = ntpath.split(path)\n",
    "    return tail or ntpath.basename(head)"
   ]
  },
  {
   "cell_type": "code",
   "execution_count": 16,
   "metadata": {},
   "outputs": [],
   "source": [
    "path = 'D:\\\\Machine Learning\\\\Datasets\\PAN 18 Author Profiling\\\\pan18-author-profiling-test-2018-03-20\\\\en\\\\text'\n",
    "dict_data = {}\n",
    "for filename in glob.glob(os.path.join(path, '*.xml')):\n",
    "    name = path_leaf(filename)[:-4]\n",
    "    dict_data[name] = None\n",
    "    root = xml.etree.ElementTree.parse(filename).getroot()\n",
    "    for child in root[0]:\n",
    "        if not dict_data[name]:\n",
    "            dict_data[name] = child.text\n",
    "        else:   \n",
    "            dict_data[name] = dict_data[name] + ' <eot> ' + child.text"
   ]
  },
  {
   "cell_type": "code",
   "execution_count": 35,
   "metadata": {},
   "outputs": [
    {
     "name": "stderr",
     "output_type": "stream",
     "text": [
      "C:\\Users\\Simeon\\Anaconda3\\envs\\First\\lib\\site-packages\\ipykernel_launcher.py:4: ParserWarning: Falling back to the 'python' engine because the 'c' engine does not support regex separators (separators > 1 char and different from '\\s+' are interpreted as regex); you can avoid this warning by specifying engine='python'.\n",
      "  after removing the cwd from sys.path.\n"
     ]
    }
   ],
   "source": [
    "main_path = 'D:\\\\Machine Learning\\\\Datasets\\PAN 18 Author Profiling\\\\pan18-author-profiling-test-2018-03-20'\n",
    "labels = pd.read_csv(os.path.join(main_path,'en.txt'),\n",
    "                     sep=':::',header=None,\n",
    "                     names=['identifier', 'gender'])"
   ]
  },
  {
   "cell_type": "code",
   "execution_count": 38,
   "metadata": {},
   "outputs": [
    {
     "data": {
      "text/html": [
       "<div>\n",
       "<style scoped>\n",
       "    .dataframe tbody tr th:only-of-type {\n",
       "        vertical-align: middle;\n",
       "    }\n",
       "\n",
       "    .dataframe tbody tr th {\n",
       "        vertical-align: top;\n",
       "    }\n",
       "\n",
       "    .dataframe thead th {\n",
       "        text-align: right;\n",
       "    }\n",
       "</style>\n",
       "<table border=\"1\" class=\"dataframe\">\n",
       "  <thead>\n",
       "    <tr style=\"text-align: right;\">\n",
       "      <th></th>\n",
       "      <th>identifier</th>\n",
       "      <th>gender</th>\n",
       "    </tr>\n",
       "  </thead>\n",
       "  <tbody>\n",
       "    <tr>\n",
       "      <th>0</th>\n",
       "      <td>e7699c2be46eac7847476236bc0acefb</td>\n",
       "      <td>female</td>\n",
       "    </tr>\n",
       "    <tr>\n",
       "      <th>1</th>\n",
       "      <td>100c885443c4d2a32075e10cbca9a27e</td>\n",
       "      <td>female</td>\n",
       "    </tr>\n",
       "    <tr>\n",
       "      <th>2</th>\n",
       "      <td>d71555b95edd6a2e0354fe7dc02fa1c</td>\n",
       "      <td>female</td>\n",
       "    </tr>\n",
       "    <tr>\n",
       "      <th>3</th>\n",
       "      <td>34b6ccf299874acb979a1a0fa54f9073</td>\n",
       "      <td>female</td>\n",
       "    </tr>\n",
       "    <tr>\n",
       "      <th>4</th>\n",
       "      <td>42115c367f542db4442788ee7ae501ce</td>\n",
       "      <td>female</td>\n",
       "    </tr>\n",
       "  </tbody>\n",
       "</table>\n",
       "</div>"
      ],
      "text/plain": [
       "                         identifier  gender\n",
       "0  e7699c2be46eac7847476236bc0acefb  female\n",
       "1  100c885443c4d2a32075e10cbca9a27e  female\n",
       "2   d71555b95edd6a2e0354fe7dc02fa1c  female\n",
       "3  34b6ccf299874acb979a1a0fa54f9073  female\n",
       "4  42115c367f542db4442788ee7ae501ce  female"
      ]
     },
     "execution_count": 38,
     "metadata": {},
     "output_type": "execute_result"
    }
   ],
   "source": [
    "labels.head()"
   ]
  },
  {
   "cell_type": "code",
   "execution_count": 40,
   "metadata": {},
   "outputs": [],
   "source": [
    "labels['tweet'] = labels.identifier.apply(lambda x: dict_data[x])"
   ]
  },
  {
   "cell_type": "code",
   "execution_count": 41,
   "metadata": {},
   "outputs": [
    {
     "data": {
      "text/html": [
       "<div>\n",
       "<style scoped>\n",
       "    .dataframe tbody tr th:only-of-type {\n",
       "        vertical-align: middle;\n",
       "    }\n",
       "\n",
       "    .dataframe tbody tr th {\n",
       "        vertical-align: top;\n",
       "    }\n",
       "\n",
       "    .dataframe thead th {\n",
       "        text-align: right;\n",
       "    }\n",
       "</style>\n",
       "<table border=\"1\" class=\"dataframe\">\n",
       "  <thead>\n",
       "    <tr style=\"text-align: right;\">\n",
       "      <th></th>\n",
       "      <th>identifier</th>\n",
       "      <th>gender</th>\n",
       "      <th>tweet</th>\n",
       "    </tr>\n",
       "  </thead>\n",
       "  <tbody>\n",
       "    <tr>\n",
       "      <th>0</th>\n",
       "      <td>e7699c2be46eac7847476236bc0acefb</td>\n",
       "      <td>female</td>\n",
       "      <td>My parents are immigrants:Dad a Brit WWII pilo...</td>\n",
       "    </tr>\n",
       "    <tr>\n",
       "      <th>1</th>\n",
       "      <td>100c885443c4d2a32075e10cbca9a27e</td>\n",
       "      <td>female</td>\n",
       "      <td>Less than 2 weeks until Valentine's Day https:...</td>\n",
       "    </tr>\n",
       "    <tr>\n",
       "      <th>2</th>\n",
       "      <td>d71555b95edd6a2e0354fe7dc02fa1c</td>\n",
       "      <td>female</td>\n",
       "      <td>First month of 2017 done and I have kept up wi...</td>\n",
       "    </tr>\n",
       "    <tr>\n",
       "      <th>3</th>\n",
       "      <td>34b6ccf299874acb979a1a0fa54f9073</td>\n",
       "      <td>female</td>\n",
       "      <td>Listening to: Tainsus &amp;amp; Richard Alfaro - K...</td>\n",
       "    </tr>\n",
       "    <tr>\n",
       "      <th>4</th>\n",
       "      <td>42115c367f542db4442788ee7ae501ce</td>\n",
       "      <td>female</td>\n",
       "      <td>Thanks to Terry this shiny new toy is on her w...</td>\n",
       "    </tr>\n",
       "  </tbody>\n",
       "</table>\n",
       "</div>"
      ],
      "text/plain": [
       "                         identifier  gender  \\\n",
       "0  e7699c2be46eac7847476236bc0acefb  female   \n",
       "1  100c885443c4d2a32075e10cbca9a27e  female   \n",
       "2   d71555b95edd6a2e0354fe7dc02fa1c  female   \n",
       "3  34b6ccf299874acb979a1a0fa54f9073  female   \n",
       "4  42115c367f542db4442788ee7ae501ce  female   \n",
       "\n",
       "                                               tweet  \n",
       "0  My parents are immigrants:Dad a Brit WWII pilo...  \n",
       "1  Less than 2 weeks until Valentine's Day https:...  \n",
       "2  First month of 2017 done and I have kept up wi...  \n",
       "3  Listening to: Tainsus &amp; Richard Alfaro - K...  \n",
       "4  Thanks to Terry this shiny new toy is on her w...  "
      ]
     },
     "execution_count": 41,
     "metadata": {},
     "output_type": "execute_result"
    }
   ],
   "source": [
    "labels.head()"
   ]
  },
  {
   "cell_type": "code",
   "execution_count": 43,
   "metadata": {},
   "outputs": [],
   "source": [
    "labels = labels.set_index('identifier')"
   ]
  },
  {
   "cell_type": "code",
   "execution_count": 44,
   "metadata": {},
   "outputs": [
    {
     "data": {
      "text/html": [
       "<div>\n",
       "<style scoped>\n",
       "    .dataframe tbody tr th:only-of-type {\n",
       "        vertical-align: middle;\n",
       "    }\n",
       "\n",
       "    .dataframe tbody tr th {\n",
       "        vertical-align: top;\n",
       "    }\n",
       "\n",
       "    .dataframe thead th {\n",
       "        text-align: right;\n",
       "    }\n",
       "</style>\n",
       "<table border=\"1\" class=\"dataframe\">\n",
       "  <thead>\n",
       "    <tr style=\"text-align: right;\">\n",
       "      <th></th>\n",
       "      <th>gender</th>\n",
       "      <th>tweet</th>\n",
       "    </tr>\n",
       "    <tr>\n",
       "      <th>identifier</th>\n",
       "      <th></th>\n",
       "      <th></th>\n",
       "    </tr>\n",
       "  </thead>\n",
       "  <tbody>\n",
       "    <tr>\n",
       "      <th>e7699c2be46eac7847476236bc0acefb</th>\n",
       "      <td>female</td>\n",
       "      <td>My parents are immigrants:Dad a Brit WWII pilo...</td>\n",
       "    </tr>\n",
       "    <tr>\n",
       "      <th>100c885443c4d2a32075e10cbca9a27e</th>\n",
       "      <td>female</td>\n",
       "      <td>Less than 2 weeks until Valentine's Day https:...</td>\n",
       "    </tr>\n",
       "    <tr>\n",
       "      <th>d71555b95edd6a2e0354fe7dc02fa1c</th>\n",
       "      <td>female</td>\n",
       "      <td>First month of 2017 done and I have kept up wi...</td>\n",
       "    </tr>\n",
       "    <tr>\n",
       "      <th>34b6ccf299874acb979a1a0fa54f9073</th>\n",
       "      <td>female</td>\n",
       "      <td>Listening to: Tainsus &amp;amp; Richard Alfaro - K...</td>\n",
       "    </tr>\n",
       "    <tr>\n",
       "      <th>42115c367f542db4442788ee7ae501ce</th>\n",
       "      <td>female</td>\n",
       "      <td>Thanks to Terry this shiny new toy is on her w...</td>\n",
       "    </tr>\n",
       "  </tbody>\n",
       "</table>\n",
       "</div>"
      ],
      "text/plain": [
       "                                  gender  \\\n",
       "identifier                                 \n",
       "e7699c2be46eac7847476236bc0acefb  female   \n",
       "100c885443c4d2a32075e10cbca9a27e  female   \n",
       "d71555b95edd6a2e0354fe7dc02fa1c   female   \n",
       "34b6ccf299874acb979a1a0fa54f9073  female   \n",
       "42115c367f542db4442788ee7ae501ce  female   \n",
       "\n",
       "                                                                              tweet  \n",
       "identifier                                                                           \n",
       "e7699c2be46eac7847476236bc0acefb  My parents are immigrants:Dad a Brit WWII pilo...  \n",
       "100c885443c4d2a32075e10cbca9a27e  Less than 2 weeks until Valentine's Day https:...  \n",
       "d71555b95edd6a2e0354fe7dc02fa1c   First month of 2017 done and I have kept up wi...  \n",
       "34b6ccf299874acb979a1a0fa54f9073  Listening to: Tainsus &amp; Richard Alfaro - K...  \n",
       "42115c367f542db4442788ee7ae501ce  Thanks to Terry this shiny new toy is on her w...  "
      ]
     },
     "execution_count": 44,
     "metadata": {},
     "output_type": "execute_result"
    }
   ],
   "source": [
    "labels.head()"
   ]
  },
  {
   "cell_type": "code",
   "execution_count": 46,
   "metadata": {},
   "outputs": [],
   "source": [
    "labels.to_csv('test_tweets_row.csv')"
   ]
  },
  {
   "cell_type": "code",
   "execution_count": null,
   "metadata": {},
   "outputs": [],
   "source": []
  }
 ],
 "metadata": {
  "kernelspec": {
   "display_name": "Python 3",
   "language": "python",
   "name": "python3"
  },
  "language_info": {
   "codemirror_mode": {
    "name": "ipython",
    "version": 3
   },
   "file_extension": ".py",
   "mimetype": "text/x-python",
   "name": "python",
   "nbconvert_exporter": "python",
   "pygments_lexer": "ipython3",
   "version": "3.6.6"
  }
 },
 "nbformat": 4,
 "nbformat_minor": 2
}
