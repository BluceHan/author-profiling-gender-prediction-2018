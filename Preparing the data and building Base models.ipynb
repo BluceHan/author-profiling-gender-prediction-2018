{
 "cells": [
  {
   "cell_type": "markdown",
   "metadata": {},
   "source": [
    "# GI NLP"
   ]
  },
  {
   "cell_type": "code",
   "execution_count": 156,
   "metadata": {},
   "outputs": [],
   "source": [
    "import os\n",
    "import glob\n",
    "import ntpath\n",
    "import pandas as pd\n",
    "import numpy as np\n",
    "import re\n",
    "from nltk import TweetTokenizer\n",
    "import seaborn as sns\n",
    "import matplotlib.pyplot as plt\n",
    "import xml.etree.ElementTree\n",
    "from xml.dom import minidom"
   ]
  },
  {
   "cell_type": "code",
   "execution_count": 24,
   "metadata": {},
   "outputs": [],
   "source": [
    "def path_leaf(path):\n",
    "    head, tail = ntpath.split(path)\n",
    "    return tail or ntpath.basename(head)"
   ]
  },
  {
   "cell_type": "code",
   "execution_count": 54,
   "metadata": {},
   "outputs": [],
   "source": [
    "dict_data = {}"
   ]
  },
  {
   "cell_type": "code",
   "execution_count": 55,
   "metadata": {},
   "outputs": [],
   "source": [
    "path = 'D:\\\\Machine Learning\\\\Datasets\\PAN 18 Author Profiling\\\\pan18-author-profiling-training-2018-02-27\\\\en\\\\text'\n",
    "for filename in glob.glob(os.path.join(path, '*.xml')):\n",
    "    name = path_leaf(filename)[:-4]\n",
    "    dict_data[name] = []\n",
    "    root = xml.etree.ElementTree.parse(filename).getroot()\n",
    "    for child in root[0]:\n",
    "        dict_data[name].append(child.text)"
   ]
  },
  {
   "cell_type": "code",
   "execution_count": 37,
   "metadata": {},
   "outputs": [],
   "source": [
    "labels = pd.read_csv('D:\\\\Machine Learning\\\\Datasets\\PAN 18 Author Profiling\\\\pan18-author-profiling-training-2018-02-27\\\\en\\\\en_labels.csv')"
   ]
  },
  {
   "cell_type": "code",
   "execution_count": 38,
   "metadata": {},
   "outputs": [
    {
     "data": {
      "text/html": [
       "<div>\n",
       "<style scoped>\n",
       "    .dataframe tbody tr th:only-of-type {\n",
       "        vertical-align: middle;\n",
       "    }\n",
       "\n",
       "    .dataframe tbody tr th {\n",
       "        vertical-align: top;\n",
       "    }\n",
       "\n",
       "    .dataframe thead th {\n",
       "        text-align: right;\n",
       "    }\n",
       "</style>\n",
       "<table border=\"1\" class=\"dataframe\">\n",
       "  <thead>\n",
       "    <tr style=\"text-align: right;\">\n",
       "      <th></th>\n",
       "      <th>identifier</th>\n",
       "      <th>gender</th>\n",
       "    </tr>\n",
       "  </thead>\n",
       "  <tbody>\n",
       "    <tr>\n",
       "      <th>0</th>\n",
       "      <td>e7d4417837acf11f36e08b136df04539</td>\n",
       "      <td>female</td>\n",
       "    </tr>\n",
       "    <tr>\n",
       "      <th>1</th>\n",
       "      <td>7e199c5885131a2579429c07f3215cbc</td>\n",
       "      <td>female</td>\n",
       "    </tr>\n",
       "    <tr>\n",
       "      <th>2</th>\n",
       "      <td>3bde88332e6d2c51f8dda422fe15ba34</td>\n",
       "      <td>female</td>\n",
       "    </tr>\n",
       "    <tr>\n",
       "      <th>3</th>\n",
       "      <td>d181625d0d5c775d0857820c31a5a7c</td>\n",
       "      <td>female</td>\n",
       "    </tr>\n",
       "    <tr>\n",
       "      <th>4</th>\n",
       "      <td>a68e08c1372d1a0daf0cc5afbdf67fb8</td>\n",
       "      <td>female</td>\n",
       "    </tr>\n",
       "  </tbody>\n",
       "</table>\n",
       "</div>"
      ],
      "text/plain": [
       "                         identifier  gender\n",
       "0  e7d4417837acf11f36e08b136df04539  female\n",
       "1  7e199c5885131a2579429c07f3215cbc  female\n",
       "2  3bde88332e6d2c51f8dda422fe15ba34  female\n",
       "3   d181625d0d5c775d0857820c31a5a7c  female\n",
       "4  a68e08c1372d1a0daf0cc5afbdf67fb8  female"
      ]
     },
     "execution_count": 38,
     "metadata": {},
     "output_type": "execute_result"
    }
   ],
   "source": [
    "labels.head()"
   ]
  },
  {
   "cell_type": "code",
   "execution_count": 71,
   "metadata": {},
   "outputs": [],
   "source": [
    "data = pd.DataFrame(columns=['identifier', 'tweet', 'gender'])\n",
    "count = 0\n",
    "for identifier, tweets in dict_data.items():\n",
    "    gender = labels[labels.identifier == identifier].gender.values[0]\n",
    "    for tweet in tweets:\n",
    "        #data = data.append(pd.Series([identifier,tweet, gender], index=data.columns), ignore_index=True, inpl)\n",
    "        data.loc[count] = [identifier,tweet, gender]\n",
    "        count +=1"
   ]
  },
  {
   "cell_type": "code",
   "execution_count": 63,
   "metadata": {},
   "outputs": [
    {
     "data": {
      "text/plain": [
       "3000"
      ]
     },
     "execution_count": 63,
     "metadata": {},
     "output_type": "execute_result"
    }
   ],
   "source": [
    "len(dict_data.items())"
   ]
  },
  {
   "cell_type": "code",
   "execution_count": 72,
   "metadata": {},
   "outputs": [
    {
     "name": "stdout",
     "output_type": "stream",
     "text": [
      "300000\n"
     ]
    }
   ],
   "source": [
    "print(count)"
   ]
  },
  {
   "cell_type": "code",
   "execution_count": 66,
   "metadata": {},
   "outputs": [
    {
     "data": {
      "text/html": [
       "<div>\n",
       "<style scoped>\n",
       "    .dataframe tbody tr th:only-of-type {\n",
       "        vertical-align: middle;\n",
       "    }\n",
       "\n",
       "    .dataframe tbody tr th {\n",
       "        vertical-align: top;\n",
       "    }\n",
       "\n",
       "    .dataframe thead th {\n",
       "        text-align: right;\n",
       "    }\n",
       "</style>\n",
       "<table border=\"1\" class=\"dataframe\">\n",
       "  <thead>\n",
       "    <tr style=\"text-align: right;\">\n",
       "      <th></th>\n",
       "      <th>identifier</th>\n",
       "      <th>tweet</th>\n",
       "      <th>gender</th>\n",
       "    </tr>\n",
       "  </thead>\n",
       "  <tbody>\n",
       "    <tr>\n",
       "      <th>0</th>\n",
       "      <td>1003de26f870d27f79887272a1eb3612</td>\n",
       "      <td>One to watch … \\nAvailable on 10th Feb. https:...</td>\n",
       "      <td>male</td>\n",
       "    </tr>\n",
       "    <tr>\n",
       "      <th>1</th>\n",
       "      <td>1003de26f870d27f79887272a1eb3612</td>\n",
       "      <td>@kirkj @deleifd There are 3 complete sets in e...</td>\n",
       "      <td>male</td>\n",
       "    </tr>\n",
       "    <tr>\n",
       "      <th>2</th>\n",
       "      <td>1003de26f870d27f79887272a1eb3612</td>\n",
       "      <td>@deleifd If you have 1, 3, (maybe 5), 10 or 14...</td>\n",
       "      <td>male</td>\n",
       "    </tr>\n",
       "    <tr>\n",
       "      <th>3</th>\n",
       "      <td>1003de26f870d27f79887272a1eb3612</td>\n",
       "      <td>@deleifd I've heard that numerous other toywor...</td>\n",
       "      <td>male</td>\n",
       "    </tr>\n",
       "    <tr>\n",
       "      <th>4</th>\n",
       "      <td>1003de26f870d27f79887272a1eb3612</td>\n",
       "      <td>Just heard about a new Web Dev meetup in The H...</td>\n",
       "      <td>male</td>\n",
       "    </tr>\n",
       "  </tbody>\n",
       "</table>\n",
       "</div>"
      ],
      "text/plain": [
       "                         identifier  \\\n",
       "0  1003de26f870d27f79887272a1eb3612   \n",
       "1  1003de26f870d27f79887272a1eb3612   \n",
       "2  1003de26f870d27f79887272a1eb3612   \n",
       "3  1003de26f870d27f79887272a1eb3612   \n",
       "4  1003de26f870d27f79887272a1eb3612   \n",
       "\n",
       "                                               tweet gender  \n",
       "0  One to watch … \\nAvailable on 10th Feb. https:...   male  \n",
       "1  @kirkj @deleifd There are 3 complete sets in e...   male  \n",
       "2  @deleifd If you have 1, 3, (maybe 5), 10 or 14...   male  \n",
       "3  @deleifd I've heard that numerous other toywor...   male  \n",
       "4  Just heard about a new Web Dev meetup in The H...   male  "
      ]
     },
     "execution_count": 66,
     "metadata": {},
     "output_type": "execute_result"
    }
   ],
   "source": [
    "data.head()"
   ]
  },
  {
   "cell_type": "code",
   "execution_count": 73,
   "metadata": {},
   "outputs": [
    {
     "data": {
      "text/plain": [
       "(300000, 3)"
      ]
     },
     "execution_count": 73,
     "metadata": {},
     "output_type": "execute_result"
    }
   ],
   "source": [
    "data.shape"
   ]
  },
  {
   "cell_type": "code",
   "execution_count": 74,
   "metadata": {},
   "outputs": [],
   "source": [
    "data.to_csv('Tweets_Each.csv', index=False)"
   ]
  },
  {
   "cell_type": "code",
   "execution_count": 102,
   "metadata": {},
   "outputs": [],
   "source": [
    "data = pd.read_csv('Tweets_Each.csv')"
   ]
  },
  {
   "cell_type": "code",
   "execution_count": 103,
   "metadata": {},
   "outputs": [
    {
     "data": {
      "text/html": [
       "<div>\n",
       "<style scoped>\n",
       "    .dataframe tbody tr th:only-of-type {\n",
       "        vertical-align: middle;\n",
       "    }\n",
       "\n",
       "    .dataframe tbody tr th {\n",
       "        vertical-align: top;\n",
       "    }\n",
       "\n",
       "    .dataframe thead th {\n",
       "        text-align: right;\n",
       "    }\n",
       "</style>\n",
       "<table border=\"1\" class=\"dataframe\">\n",
       "  <thead>\n",
       "    <tr style=\"text-align: right;\">\n",
       "      <th></th>\n",
       "      <th>identifier</th>\n",
       "      <th>tweet</th>\n",
       "      <th>gender</th>\n",
       "    </tr>\n",
       "  </thead>\n",
       "  <tbody>\n",
       "    <tr>\n",
       "      <th>0</th>\n",
       "      <td>1003de26f870d27f79887272a1eb3612</td>\n",
       "      <td>One to watch … \\r\\nAvailable on 10th Feb. http...</td>\n",
       "      <td>male</td>\n",
       "    </tr>\n",
       "    <tr>\n",
       "      <th>1</th>\n",
       "      <td>1003de26f870d27f79887272a1eb3612</td>\n",
       "      <td>@kirkj @deleifd There are 3 complete sets in e...</td>\n",
       "      <td>male</td>\n",
       "    </tr>\n",
       "    <tr>\n",
       "      <th>2</th>\n",
       "      <td>1003de26f870d27f79887272a1eb3612</td>\n",
       "      <td>@deleifd If you have 1, 3, (maybe 5), 10 or 14...</td>\n",
       "      <td>male</td>\n",
       "    </tr>\n",
       "    <tr>\n",
       "      <th>3</th>\n",
       "      <td>1003de26f870d27f79887272a1eb3612</td>\n",
       "      <td>@deleifd I've heard that numerous other toywor...</td>\n",
       "      <td>male</td>\n",
       "    </tr>\n",
       "    <tr>\n",
       "      <th>4</th>\n",
       "      <td>1003de26f870d27f79887272a1eb3612</td>\n",
       "      <td>Just heard about a new Web Dev meetup in The H...</td>\n",
       "      <td>male</td>\n",
       "    </tr>\n",
       "  </tbody>\n",
       "</table>\n",
       "</div>"
      ],
      "text/plain": [
       "                         identifier  \\\n",
       "0  1003de26f870d27f79887272a1eb3612   \n",
       "1  1003de26f870d27f79887272a1eb3612   \n",
       "2  1003de26f870d27f79887272a1eb3612   \n",
       "3  1003de26f870d27f79887272a1eb3612   \n",
       "4  1003de26f870d27f79887272a1eb3612   \n",
       "\n",
       "                                               tweet gender  \n",
       "0  One to watch … \\r\\nAvailable on 10th Feb. http...   male  \n",
       "1  @kirkj @deleifd There are 3 complete sets in e...   male  \n",
       "2  @deleifd If you have 1, 3, (maybe 5), 10 or 14...   male  \n",
       "3  @deleifd I've heard that numerous other toywor...   male  \n",
       "4  Just heard about a new Web Dev meetup in The H...   male  "
      ]
     },
     "execution_count": 103,
     "metadata": {},
     "output_type": "execute_result"
    }
   ],
   "source": [
    "data.head()"
   ]
  },
  {
   "cell_type": "code",
   "execution_count": 104,
   "metadata": {},
   "outputs": [
    {
     "data": {
      "text/plain": [
       "(300000, 3)"
      ]
     },
     "execution_count": 104,
     "metadata": {},
     "output_type": "execute_result"
    }
   ],
   "source": [
    "data.shape"
   ]
  },
  {
   "cell_type": "code",
   "execution_count": 105,
   "metadata": {},
   "outputs": [
    {
     "data": {
      "text/html": [
       "<div>\n",
       "<style scoped>\n",
       "    .dataframe tbody tr th:only-of-type {\n",
       "        vertical-align: middle;\n",
       "    }\n",
       "\n",
       "    .dataframe tbody tr th {\n",
       "        vertical-align: top;\n",
       "    }\n",
       "\n",
       "    .dataframe thead th {\n",
       "        text-align: right;\n",
       "    }\n",
       "</style>\n",
       "<table border=\"1\" class=\"dataframe\">\n",
       "  <thead>\n",
       "    <tr style=\"text-align: right;\">\n",
       "      <th></th>\n",
       "      <th>identifier</th>\n",
       "      <th>tweet</th>\n",
       "      <th>gender</th>\n",
       "    </tr>\n",
       "  </thead>\n",
       "  <tbody>\n",
       "    <tr>\n",
       "      <th>0</th>\n",
       "      <td>1003de26f870d27f79887272a1eb3612</td>\n",
       "      <td>One to watch … \\r\\nAvailable on 10th Feb. http...</td>\n",
       "      <td>male</td>\n",
       "    </tr>\n",
       "    <tr>\n",
       "      <th>1</th>\n",
       "      <td>1003de26f870d27f79887272a1eb3612</td>\n",
       "      <td>@kirkj @deleifd There are 3 complete sets in e...</td>\n",
       "      <td>male</td>\n",
       "    </tr>\n",
       "    <tr>\n",
       "      <th>2</th>\n",
       "      <td>1003de26f870d27f79887272a1eb3612</td>\n",
       "      <td>@deleifd If you have 1, 3, (maybe 5), 10 or 14...</td>\n",
       "      <td>male</td>\n",
       "    </tr>\n",
       "    <tr>\n",
       "      <th>3</th>\n",
       "      <td>1003de26f870d27f79887272a1eb3612</td>\n",
       "      <td>@deleifd I've heard that numerous other toywor...</td>\n",
       "      <td>male</td>\n",
       "    </tr>\n",
       "    <tr>\n",
       "      <th>4</th>\n",
       "      <td>1003de26f870d27f79887272a1eb3612</td>\n",
       "      <td>Just heard about a new Web Dev meetup in The H...</td>\n",
       "      <td>male</td>\n",
       "    </tr>\n",
       "  </tbody>\n",
       "</table>\n",
       "</div>"
      ],
      "text/plain": [
       "                         identifier  \\\n",
       "0  1003de26f870d27f79887272a1eb3612   \n",
       "1  1003de26f870d27f79887272a1eb3612   \n",
       "2  1003de26f870d27f79887272a1eb3612   \n",
       "3  1003de26f870d27f79887272a1eb3612   \n",
       "4  1003de26f870d27f79887272a1eb3612   \n",
       "\n",
       "                                               tweet gender  \n",
       "0  One to watch … \\r\\nAvailable on 10th Feb. http...   male  \n",
       "1  @kirkj @deleifd There are 3 complete sets in e...   male  \n",
       "2  @deleifd If you have 1, 3, (maybe 5), 10 or 14...   male  \n",
       "3  @deleifd I've heard that numerous other toywor...   male  \n",
       "4  Just heard about a new Web Dev meetup in The H...   male  "
      ]
     },
     "execution_count": 105,
     "metadata": {},
     "output_type": "execute_result"
    }
   ],
   "source": [
    "data.head()"
   ]
  },
  {
   "cell_type": "code",
   "execution_count": 60,
   "metadata": {},
   "outputs": [],
   "source": [
    "grp = data.groupby(['identifier', 'gender'])"
   ]
  },
  {
   "cell_type": "code",
   "execution_count": 72,
   "metadata": {},
   "outputs": [],
   "source": [
    "ar = grp['tweet']\n",
    "data_concat = ar.apply(lambda x: x.str.cat(sep=' <eot> '))"
   ]
  },
  {
   "cell_type": "code",
   "execution_count": 164,
   "metadata": {},
   "outputs": [],
   "source": [
    "data_df = data_concat.to_frame()"
   ]
  },
  {
   "cell_type": "code",
   "execution_count": 165,
   "metadata": {},
   "outputs": [],
   "source": [
    "data_df = data_df.reset_index()"
   ]
  },
  {
   "cell_type": "code",
   "execution_count": 166,
   "metadata": {},
   "outputs": [],
   "source": [
    "data_df = data_df.set_index('identifier')"
   ]
  },
  {
   "cell_type": "code",
   "execution_count": 121,
   "metadata": {},
   "outputs": [],
   "source": [
    "#data_df['tweet'] = data_df.tweet.apply(lambda x: x + ' <eot>')"
   ]
  },
  {
   "cell_type": "code",
   "execution_count": 167,
   "metadata": {},
   "outputs": [],
   "source": [
    "data_df.to_csv('Tweets_concated_row.csv', index=False)"
   ]
  },
  {
   "cell_type": "code",
   "execution_count": 168,
   "metadata": {},
   "outputs": [],
   "source": [
    "data_df['tweet'] = data_df.tweet.apply(lambda x: re.sub(r\"\\B@\\w+\", \"<user>\", x))"
   ]
  },
  {
   "cell_type": "code",
   "execution_count": 169,
   "metadata": {},
   "outputs": [],
   "source": [
    "data_df['tweet'] = data_df.tweet.apply(lambda x: re.sub('http\\S+\\s*', '<url>', x))"
   ]
  },
  {
   "cell_type": "code",
   "execution_count": 170,
   "metadata": {},
   "outputs": [],
   "source": [
    "#hashtag_re = re.compile(\"(?:^|\\s)[＃#]{1}(\\w+)\", re.UNICODE)\n",
    "#data_df['hashtags'] = data_df.tweet.apply(lambda x: hashtag_re.findall(x))"
   ]
  },
  {
   "cell_type": "code",
   "execution_count": 171,
   "metadata": {},
   "outputs": [],
   "source": [
    "data_df.to_csv('Tweets_concated.csv', index=False)"
   ]
  },
  {
   "cell_type": "markdown",
   "metadata": {},
   "source": [
    "# Baseline models"
   ]
  },
  {
   "cell_type": "markdown",
   "metadata": {},
   "source": [
    "## Baseline model using n-grams"
   ]
  },
  {
   "cell_type": "code",
   "execution_count": 151,
   "metadata": {},
   "outputs": [],
   "source": [
    "from sklearn.linear_model import LogisticRegression\n",
    "from sklearn.model_selection import cross_val_score\n",
    "from sklearn.feature_extraction.text import TfidfVectorizer\n",
    "from sklearn.feature_extraction.text import CountVectorizer\n",
    "from sklearn.preprocessing import LabelEncoder"
   ]
  },
  {
   "cell_type": "code",
   "execution_count": 143,
   "metadata": {},
   "outputs": [],
   "source": [
    "tweetTokenizer = TweetTokenizer()"
   ]
  },
  {
   "cell_type": "code",
   "execution_count": 148,
   "metadata": {},
   "outputs": [],
   "source": [
    "tfidf_vectorizer = TfidfVectorizer(\n",
    "            sublinear_tf=True,\n",
    "            strip_accents='unicode',\n",
    "            analyzer='word',\n",
    "            tokenizer=tweetTokenizer.tokenize,\n",
    "            ngram_range=(1, 3),\n",
    "            max_features=10000)"
   ]
  },
  {
   "cell_type": "code",
   "execution_count": 149,
   "metadata": {},
   "outputs": [
    {
     "data": {
      "text/plain": [
       "TfidfVectorizer(analyzer='word', binary=False, decode_error='strict',\n",
       "        dtype=<class 'numpy.float64'>, encoding='utf-8', input='content',\n",
       "        lowercase=True, max_df=1.0, max_features=10000, min_df=1,\n",
       "        ngram_range=(1, 3), norm='l2', preprocessor=None, smooth_idf=True,\n",
       "        stop_words=None, strip_accents='unicode', sublinear_tf=True,\n",
       "        token_pattern='(?u)\\\\b\\\\w\\\\w+\\\\b',\n",
       "        tokenizer=<bound method TweetTokenizer.tokenize of <nltk.tokenize.casual.TweetTokenizer object at 0x00000135AEB90E10>>,\n",
       "        use_idf=True, vocabulary=None)"
      ]
     },
     "execution_count": 149,
     "metadata": {},
     "output_type": "execute_result"
    }
   ],
   "source": [
    "tfidf_vectorizer.fit(data_df.tweet)"
   ]
  },
  {
   "cell_type": "code",
   "execution_count": 150,
   "metadata": {},
   "outputs": [],
   "source": [
    "X_tfidg_vect = tfidf_vectorizer.transform(data_df.tweet)"
   ]
  },
  {
   "cell_type": "code",
   "execution_count": 153,
   "metadata": {},
   "outputs": [],
   "source": [
    "le = LabelEncoder()\n",
    "y = le.fit_transform(data_df.gender)"
   ]
  },
  {
   "cell_type": "code",
   "execution_count": 154,
   "metadata": {},
   "outputs": [
    {
     "name": "stderr",
     "output_type": "stream",
     "text": [
      "C:\\Users\\Simeon\\Anaconda3\\envs\\First\\lib\\site-packages\\sklearn\\model_selection\\_split.py:1943: FutureWarning: You should specify a value for 'cv' instead of relying on the default value. The default value will change from 3 to 5 in version 0.22.\n",
      "  warnings.warn(CV_WARNING, FutureWarning)\n",
      "C:\\Users\\Simeon\\Anaconda3\\envs\\First\\lib\\site-packages\\sklearn\\linear_model\\logistic.py:432: FutureWarning: Default solver will be changed to 'lbfgs' in 0.22. Specify a solver to silence this warning.\n",
      "  FutureWarning)\n"
     ]
    }
   ],
   "source": [
    "cv_results = cross_val_score(LogisticRegression(), X_tfidg_vect, y)"
   ]
  },
  {
   "cell_type": "code",
   "execution_count": 158,
   "metadata": {},
   "outputs": [
    {
     "name": "stdout",
     "output_type": "stream",
     "text": [
      "CV Mean: 0.805333 std: 0.021792\n"
     ]
    }
   ],
   "source": [
    "print('CV Mean: %f std: %f' % (np.mean(cv_results), np.std(cv_results)))"
   ]
  },
  {
   "cell_type": "markdown",
   "metadata": {},
   "source": [
    "## Baseline model using Deep Learning"
   ]
  },
  {
   "cell_type": "code",
   "execution_count": null,
   "metadata": {},
   "outputs": [],
   "source": [
    "tweetTokenizer = TweetTokenizer()\n",
    "tweet_tokes = data_df.tweet.apply(lambda x : tweetTokenizer.tokenize(x))\n",
    "tweets_len = tweet_tokes.apply(lambda x: len(x))"
   ]
  },
  {
   "cell_type": "code",
   "execution_count": 174,
   "metadata": {},
   "outputs": [
    {
     "data": {
      "text/plain": [
       "1696.171"
      ]
     },
     "execution_count": 174,
     "metadata": {},
     "output_type": "execute_result"
    }
   ],
   "source": [
    "tweets_len.mean()"
   ]
  },
  {
   "cell_type": "code",
   "execution_count": 175,
   "metadata": {},
   "outputs": [
    {
     "data": {
      "text/plain": [
       "287.60587176114905"
      ]
     },
     "execution_count": 175,
     "metadata": {},
     "output_type": "execute_result"
    }
   ],
   "source": [
    "tweets_len.std()"
   ]
  },
  {
   "cell_type": "code",
   "execution_count": 176,
   "metadata": {},
   "outputs": [
    {
     "name": "stderr",
     "output_type": "stream",
     "text": [
      "C:\\Users\\Simeon\\Anaconda3\\envs\\First\\lib\\site-packages\\scipy\\stats\\stats.py:1713: FutureWarning: Using a non-tuple sequence for multidimensional indexing is deprecated; use `arr[tuple(seq)]` instead of `arr[seq]`. In the future this will be interpreted as an array index, `arr[np.array(seq)]`, which will result either in an error or a different result.\n",
      "  return np.add.reduce(sorted[indexer] * weights, axis=axis) / sumval\n"
     ]
    },
    {
     "data": {
      "image/png": "[encoded data removed]",
      "text/plain": [
       "<Figure size 432x288 with 1 Axes>"
      ]
     },
     "metadata": {
      "needs_background": "light"
     },
     "output_type": "display_data"
    }
   ],
   "source": [
    "sns.distplot(tweets_len, hist=True, kde=True, \n",
    "             bins=int(180/5), color = 'darkblue', \n",
    "             hist_kws={'edgecolor':'black'},\n",
    "             kde_kws={'linewidth': 4})\n",
    "plt.show()"
   ]
  },
  {
   "cell_type": "code",
   "execution_count": 178,
   "metadata": {},
   "outputs": [
    {
     "data": {
      "text/plain": [
       "144721"
      ]
     },
     "execution_count": 178,
     "metadata": {},
     "output_type": "execute_result"
    }
   ],
   "source": [
    "unique_tokens = set()\n",
    "data_df.tweet.apply(lambda x: unique_tokens.update(tweetTokenizer.tokenize(x.lower())))\n",
    "len(unique_tokens)"
   ]
  },
  {
   "cell_type": "code",
   "execution_count": 181,
   "metadata": {},
   "outputs": [],
   "source": [
    "from keras.preprocessing.text import Tokenizer\n",
    "from keras.preprocessing.sequence import pad_sequences\n",
    "from keras.models import Sequential\n",
    "from keras.layers import Embedding, Flatten, Dense\n",
    "from keras import layers\n",
    "import os\n",
    "from keras.utils import to_categorical\n"
   ]
  },
  {
   "cell_type": "code",
   "execution_count": 182,
   "metadata": {},
   "outputs": [],
   "source": [
    "max_len = 2050\n",
    "max_words = 100000\n",
    "\n",
    "tokenizer = Tokenizer(num_words=max_words)\n",
    "tokenizer.fit_on_texts(data_df.tweet)\n",
    "train_seq = tokenizer.texts_to_sequences(data_df.tweet)"
   ]
  },
  {
   "cell_type": "code",
   "execution_count": 184,
   "metadata": {},
   "outputs": [],
   "source": [
    "train_seq_padded = pad_sequences(train_seq, maxlen=max_len)"
   ]
  },
  {
   "cell_type": "code",
   "execution_count": 187,
   "metadata": {},
   "outputs": [
    {
     "name": "stdout",
     "output_type": "stream",
     "text": [
      "Found 1193514 word vectors.\n"
     ]
    }
   ],
   "source": [
    "glove_dir = r'D:\\Machine Learning\\Embeddings\\glove.twitter.27B'\n",
    "\n",
    "embeddings_index = {}\n",
    "f = open(os.path.join(glove_dir, 'glove.twitter.27B.200d.txt'), encoding='utf-8')\n",
    "for line in f:\n",
    "    values = line.split()\n",
    "    word = values[0]\n",
    "    coefs = np.asarray(values[1:], dtype='float32')\n",
    "    embeddings_index[word] = coefs\n",
    "f.close()\n",
    "print('Found %s word vectors.' % len(embeddings_index))"
   ]
  },
  {
   "cell_type": "code",
   "execution_count": 197,
   "metadata": {},
   "outputs": [],
   "source": [
    "embedding_dim = 200\n",
    "word_index = tokenizer.word_index\n",
    "embedding_matrix = np.zeros((max_words, embedding_dim))\n",
    "for word, i in word_index.items():\n",
    "    if i >= max_words:\n",
    "        break\n",
    "    embedding_vector = embeddings_index.get(word)\n",
    "    if embedding_vector is not None:\n",
    "        embedding_matrix[i] = embedding_vector"
   ]
  },
  {
   "cell_type": "code",
   "execution_count": 209,
   "metadata": {},
   "outputs": [],
   "source": [
    "model = Sequential()\n",
    "model.add(layers.Embedding(max_words, embedding_dim, input_length=max_len))\n",
    "model.add(layers.GRU(32))\n",
    "model.add(layers.Dense(1, activation='sigmoid'))"
   ]
  },
  {
   "cell_type": "code",
   "execution_count": 210,
   "metadata": {},
   "outputs": [],
   "source": [
    "model.layers[0].set_weights([embedding_matrix])\n",
    "model.layers[0].trainable = False"
   ]
  },
  {
   "cell_type": "code",
   "execution_count": 213,
   "metadata": {},
   "outputs": [],
   "source": [
    "model.compile(optimizer='rmsprop',\n",
    "             loss='binary_crossentropy',\n",
    "             metrics=['acc'])"
   ]
  },
  {
   "cell_type": "code",
   "execution_count": 214,
   "metadata": {},
   "outputs": [
    {
     "name": "stdout",
     "output_type": "stream",
     "text": [
      "Train on 2400 samples, validate on 600 samples\n",
      "Epoch 1/30\n",
      "2400/2400 [==============================] - 60s 25ms/step - loss: 0.7007 - acc: 0.5025 - val_loss: 0.6982 - val_acc: 0.5200\n",
      "Epoch 2/30\n",
      "2400/2400 [==============================] - 61s 26ms/step - loss: 0.6817 - acc: 0.5625 - val_loss: 0.6903 - val_acc: 0.5333\n",
      "Epoch 3/30\n",
      "2400/2400 [==============================] - 60s 25ms/step - loss: 0.6732 - acc: 0.5821 - val_loss: 0.7051 - val_acc: 0.4917\n",
      "Epoch 4/30\n",
      "2400/2400 [==============================] - 60s 25ms/step - loss: 0.6603 - acc: 0.6104 - val_loss: 0.6858 - val_acc: 0.5667\n",
      "Epoch 5/30\n",
      "2400/2400 [==============================] - 59s 25ms/step - loss: 0.6501 - acc: 0.6246 - val_loss: 0.6840 - val_acc: 0.5650\n",
      "Epoch 6/30\n",
      "2400/2400 [==============================] - 61s 25ms/step - loss: 0.6369 - acc: 0.6471 - val_loss: 0.6840 - val_acc: 0.5583\n",
      "Epoch 7/30\n",
      "2400/2400 [==============================] - 68s 28ms/step - loss: 0.6211 - acc: 0.6688 - val_loss: 0.6682 - val_acc: 0.5883\n",
      "Epoch 8/30\n",
      "2400/2400 [==============================] - 69s 29ms/step - loss: 0.6079 - acc: 0.6767 - val_loss: 0.6623 - val_acc: 0.6083\n",
      "Epoch 9/30\n",
      "2400/2400 [==============================] - 68s 28ms/step - loss: 0.5888 - acc: 0.6971 - val_loss: 0.6664 - val_acc: 0.6283\n",
      "Epoch 10/30\n",
      "2400/2400 [==============================] - 68s 28ms/step - loss: 0.5708 - acc: 0.7000 - val_loss: 0.6295 - val_acc: 0.6550\n",
      "Epoch 11/30\n",
      "2400/2400 [==============================] - 68s 28ms/step - loss: 0.5594 - acc: 0.7129 - val_loss: 0.6833 - val_acc: 0.6233\n",
      "Epoch 12/30\n",
      "2400/2400 [==============================] - 61s 25ms/step - loss: 0.5417 - acc: 0.7279 - val_loss: 0.6122 - val_acc: 0.6800\n",
      "Epoch 13/30\n",
      "2400/2400 [==============================] - 59s 25ms/step - loss: 0.5385 - acc: 0.7388 - val_loss: 0.6058 - val_acc: 0.7067\n",
      "Epoch 14/30\n",
      "2400/2400 [==============================] - 59s 25ms/step - loss: 0.5085 - acc: 0.7550 - val_loss: 0.6144 - val_acc: 0.6867\n",
      "Epoch 15/30\n",
      "2400/2400 [==============================] - 59s 25ms/step - loss: 0.5010 - acc: 0.7625 - val_loss: 0.5919 - val_acc: 0.7150\n",
      "Epoch 16/30\n",
      "2400/2400 [==============================] - 60s 25ms/step - loss: 0.4928 - acc: 0.7717 - val_loss: 0.6058 - val_acc: 0.6917\n",
      "Epoch 17/30\n",
      "2400/2400 [==============================] - 58s 24ms/step - loss: 0.4926 - acc: 0.7612 - val_loss: 0.5919 - val_acc: 0.7083\n",
      "Epoch 18/30\n",
      "2400/2400 [==============================] - 59s 25ms/step - loss: 0.4729 - acc: 0.7850 - val_loss: 0.5956 - val_acc: 0.7017\n",
      "Epoch 19/30\n",
      "2400/2400 [==============================] - 58s 24ms/step - loss: 0.4524 - acc: 0.7938 - val_loss: 0.5716 - val_acc: 0.7267\n",
      "Epoch 20/30\n",
      "2400/2400 [==============================] - 66s 27ms/step - loss: 0.4565 - acc: 0.7875 - val_loss: 0.6059 - val_acc: 0.7017\n",
      "Epoch 21/30\n",
      "2400/2400 [==============================] - 62s 26ms/step - loss: 0.4284 - acc: 0.8108 - val_loss: 0.5956 - val_acc: 0.6933\n",
      "Epoch 22/30\n",
      "2400/2400 [==============================] - 63s 26ms/step - loss: 0.4342 - acc: 0.8021 - val_loss: 0.6413 - val_acc: 0.6800\n",
      "Epoch 23/30\n",
      "2400/2400 [==============================] - 60s 25ms/step - loss: 0.4150 - acc: 0.8108 - val_loss: 0.6527 - val_acc: 0.6833\n",
      "Epoch 24/30\n",
      "2400/2400 [==============================] - 60s 25ms/step - loss: 0.4012 - acc: 0.8267 - val_loss: 0.6987 - val_acc: 0.6683\n",
      "Epoch 25/30\n",
      "2400/2400 [==============================] - 58s 24ms/step - loss: 0.4023 - acc: 0.8213 - val_loss: 0.5874 - val_acc: 0.7183\n",
      "Epoch 26/30\n",
      "2400/2400 [==============================] - 63s 26ms/step - loss: 0.3921 - acc: 0.8250 - val_loss: 0.5637 - val_acc: 0.7283\n",
      "Epoch 27/30\n",
      "2400/2400 [==============================] - 58s 24ms/step - loss: 0.3755 - acc: 0.8417 - val_loss: 0.5884 - val_acc: 0.7083\n",
      "Epoch 28/30\n",
      "2400/2400 [==============================] - 59s 24ms/step - loss: 0.3570 - acc: 0.8462 - val_loss: 0.5563 - val_acc: 0.7317\n",
      "Epoch 29/30\n",
      "2400/2400 [==============================] - 59s 25ms/step - loss: 0.3621 - acc: 0.8488 - val_loss: 0.5974 - val_acc: 0.7100\n",
      "Epoch 30/30\n",
      "2400/2400 [==============================] - 59s 25ms/step - loss: 0.3403 - acc: 0.8654 - val_loss: 0.6435 - val_acc: 0.7117\n"
     ]
    }
   ],
   "source": [
    "history = model.fit(train_seq_padded, y,\n",
    "                   epochs=30,\n",
    "                   batch_size=128,\n",
    "                   validation_split=0.2)"
   ]
  },
  {
   "cell_type": "code",
   "execution_count": 218,
   "metadata": {},
   "outputs": [
    {
     "data": {
      "image/png": "[encoded data removed]",
      "text/plain": [
       "<Figure size 432x288 with 1 Axes>"
      ]
     },
     "metadata": {
      "needs_background": "light"
     },
     "output_type": "display_data"
    },
    {
     "data": {
      "image/png": "[encoded data removed]",
      "text/plain": [
       "<Figure size 432x288 with 1 Axes>"
      ]
     },
     "metadata": {
      "needs_background": "light"
     },
     "output_type": "display_data"
    }
   ],
   "source": [
    "loss = history.history['loss']\n",
    "val_loss = history.history['val_loss']\n",
    "\n",
    "acc = history.history['acc']\n",
    "val_acc = history.history['val_acc']\n",
    "\n",
    "epochs = range(1, len(loss) + 1)\n",
    "\n",
    "plt.plot(epochs, acc, 'bo', label='Training loss')\n",
    "plt.plot(epochs, val_acc, 'b', label='Validation loss')\n",
    "plt.title('Training and validation loss')\n",
    "plt.legend()\n",
    "plt.show()\n",
    "\n",
    "plt.plot(epochs, loss, 'bo', label='Training loss')\n",
    "plt.plot(epochs, val_loss, 'b', label='Validation loss')\n",
    "plt.title('Training and validation loss')\n",
    "plt.legend()\n",
    "plt.show()"
   ]
  }
 ],
 "metadata": {
  "kernelspec": {
   "display_name": "Python 3",
   "language": "python",
   "name": "python3"
  },
  "language_info": {
   "codemirror_mode": {
    "name": "ipython",
    "version": 3
   },
   "file_extension": ".py",
   "mimetype": "text/x-python",
   "name": "python",
   "nbconvert_exporter": "python",
   "pygments_lexer": "ipython3",
   "version": "3.6.6"
  }
 },
 "nbformat": 4,
 "nbformat_minor": 2
}
