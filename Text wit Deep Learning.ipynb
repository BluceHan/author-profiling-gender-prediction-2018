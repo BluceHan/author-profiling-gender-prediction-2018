{
 "cells": [
  {
   "cell_type": "code",
   "execution_count": 29,
   "metadata": {},
   "outputs": [],
   "source": [
    "import pandas as pd\n",
    "import numpy as np\n",
    "from keras.preprocessing.text import Tokenizer\n",
    "from keras.preprocessing.sequence import pad_sequences\n",
    "from keras.models import Sequential\n",
    "from keras.layers import Embedding, Flatten, Dense\n",
    "from keras import layers\n",
    "import os\n",
    "from keras.utils import to_categorical\n",
    "import re\n",
    "from sklearn.preprocessing import LabelEncoder\n",
    "from sklearn.metrics import accuracy_score\n",
    "import matplotlib.pyplot as plt\n",
    "import gc"
   ]
  },
  {
   "cell_type": "code",
   "execution_count": 27,
   "metadata": {},
   "outputs": [],
   "source": [
    "def plot_acc_loss(history):\n",
    "    loss = history.history['loss']\n",
    "    val_loss = history.history['val_loss']\n",
    "\n",
    "    acc = history.history['acc']\n",
    "    val_acc = history.history['val_acc']\n",
    "\n",
    "    epochs = range(1, len(loss) + 1)\n",
    "\n",
    "    plt.plot(epochs, acc, 'bo', label='Training loss')\n",
    "    plt.plot(epochs, val_acc, 'b', label='Validation loss')\n",
    "    plt.title('Training and validation accuracy')\n",
    "    plt.legend()\n",
    "    plt.show()\n",
    "\n",
    "    plt.plot(epochs, loss, 'bo', label='Training loss')\n",
    "    plt.plot(epochs, val_loss, 'b', label='Validation loss')\n",
    "    plt.title('Training and validation loss')\n",
    "    plt.legend()\n",
    "    plt.show()"
   ]
  },
  {
   "cell_type": "code",
   "execution_count": 2,
   "metadata": {},
   "outputs": [],
   "source": [
    "data = pd.read_csv('Tweets_concated_row.csv')"
   ]
  },
  {
   "cell_type": "code",
   "execution_count": 3,
   "metadata": {},
   "outputs": [],
   "source": [
    "data['tweet'] = data.tweet.apply(lambda x: re.sub(r\"\\B@\\w+\", \"<user>\", x))\n",
    "data['tweet'] = data.tweet.apply(lambda x: re.sub('http\\S+\\s*', '<url>', x))"
   ]
  },
  {
   "cell_type": "code",
   "execution_count": 4,
   "metadata": {},
   "outputs": [],
   "source": [
    "data['tweet'] = data.tweet.apply(lambda x: x.lower())"
   ]
  },
  {
   "cell_type": "code",
   "execution_count": 5,
   "metadata": {},
   "outputs": [],
   "source": [
    "y = data.gender\n",
    "X = data.tweet"
   ]
  },
  {
   "cell_type": "code",
   "execution_count": 6,
   "metadata": {},
   "outputs": [],
   "source": [
    "test_data = pd.read_csv('test_tweets_row.csv')\n",
    "test_data['tweet'] = test_data.tweet.apply(lambda x: re.sub(r\"\\B@\\w+\", \"<user>\", x))\n",
    "test_data['tweet'] = test_data.tweet.apply(lambda x: re.sub('http\\S+\\s*', '<url>', x))"
   ]
  },
  {
   "cell_type": "code",
   "execution_count": 7,
   "metadata": {},
   "outputs": [],
   "source": [
    "test_data['tweet'] = test_data.tweet.apply(lambda x: x.lower())"
   ]
  },
  {
   "cell_type": "code",
   "execution_count": 8,
   "metadata": {},
   "outputs": [],
   "source": [
    "X_test = test_data.tweet\n",
    "y_test = test_data.gender"
   ]
  },
  {
   "cell_type": "code",
   "execution_count": 9,
   "metadata": {},
   "outputs": [],
   "source": [
    "le = LabelEncoder()\n",
    "y = le.fit_transform(y)\n",
    "y_test = le.transform(y_test)"
   ]
  },
  {
   "cell_type": "code",
   "execution_count": 10,
   "metadata": {},
   "outputs": [],
   "source": [
    "max_len = 2050\n",
    "max_words = 100000\n",
    "\n",
    "tokenizer = Tokenizer(num_words=max_words)\n",
    "tokenizer.fit_on_texts(X)\n",
    "train_seq = tokenizer.texts_to_sequences(X)"
   ]
  },
  {
   "cell_type": "code",
   "execution_count": 11,
   "metadata": {},
   "outputs": [],
   "source": [
    "test_seq = tokenizer.texts_to_sequences(X_test)"
   ]
  },
  {
   "cell_type": "code",
   "execution_count": 12,
   "metadata": {},
   "outputs": [],
   "source": [
    "train_seq_padded = pad_sequences(train_seq, maxlen=max_len)\n",
    "test_seq_padded = pad_sequences(test_seq, maxlen=max_len)"
   ]
  },
  {
   "cell_type": "code",
   "execution_count": 13,
   "metadata": {},
   "outputs": [
    {
     "name": "stdout",
     "output_type": "stream",
     "text": [
      "Found 1193514 word vectors.\n"
     ]
    }
   ],
   "source": [
    "glove_dir = r'D:\\Machine Learning\\Embeddings\\glove.twitter.27B'\n",
    "\n",
    "embeddings_index = {}\n",
    "f = open(os.path.join(glove_dir, 'glove.twitter.27B.200d.txt'), encoding='utf-8')\n",
    "for line in f:\n",
    "    values = line.split()\n",
    "    word = values[0]\n",
    "    coefs = np.asarray(values[1:], dtype='float32')\n",
    "    embeddings_index[word] = coefs\n",
    "f.close()\n",
    "print('Found %s word vectors.' % len(embeddings_index))"
   ]
  },
  {
   "cell_type": "code",
   "execution_count": 14,
   "metadata": {},
   "outputs": [],
   "source": [
    "embedding_dim = 200\n",
    "word_index = tokenizer.word_index\n",
    "embedding_matrix = np.zeros((max_words, embedding_dim))\n",
    "for word, i in word_index.items():\n",
    "    if i >= max_words:\n",
    "        break\n",
    "    embedding_vector = embeddings_index.get(word)\n",
    "    if embedding_vector is not None:\n",
    "        embedding_matrix[i] = embedding_vector"
   ]
  },
  {
   "cell_type": "code",
   "execution_count": 15,
   "metadata": {},
   "outputs": [
    {
     "data": {
      "text/plain": [
       "0"
      ]
     },
     "execution_count": 15,
     "metadata": {},
     "output_type": "execute_result"
    }
   ],
   "source": [
    "del embeddings_index\n",
    "gc.collect()"
   ]
  },
  {
   "cell_type": "code",
   "execution_count": 17,
   "metadata": {},
   "outputs": [],
   "source": [
    "model = Sequential()\n",
    "model.add(layers.Embedding(max_words, embedding_dim, input_length=max_len))\n",
    "model.add(layers.GRU(32))\n",
    "model.add(layers.Dense(1, activation='sigmoid'))"
   ]
  },
  {
   "cell_type": "code",
   "execution_count": 18,
   "metadata": {},
   "outputs": [],
   "source": [
    "model.layers[0].set_weights([embedding_matrix])\n",
    "model.layers[0].trainable = False"
   ]
  },
  {
   "cell_type": "code",
   "execution_count": 19,
   "metadata": {},
   "outputs": [],
   "source": [
    "model.compile(optimizer='rmsprop',\n",
    "             loss='binary_crossentropy',\n",
    "             metrics=['acc'])"
   ]
  },
  {
   "cell_type": "code",
   "execution_count": 20,
   "metadata": {},
   "outputs": [
    {
     "name": "stdout",
     "output_type": "stream",
     "text": [
      "Train on 2400 samples, validate on 600 samples\n",
      "Epoch 1/30\n",
      "2400/2400 [==============================] - 73s 30ms/step - loss: 0.6966 - acc: 0.5108 - val_loss: 0.6860 - val_acc: 0.5283\n",
      "Epoch 2/30\n",
      "2400/2400 [==============================] - 70s 29ms/step - loss: 0.6810 - acc: 0.5608 - val_loss: 0.6938 - val_acc: 0.5117\n",
      "Epoch 3/30\n",
      "2400/2400 [==============================] - 72s 30ms/step - loss: 0.6738 - acc: 0.5763 - val_loss: 0.6862 - val_acc: 0.5317\n",
      "Epoch 4/30\n",
      "2400/2400 [==============================] - 68s 28ms/step - loss: 0.6626 - acc: 0.6067 - val_loss: 0.6782 - val_acc: 0.5533\n",
      "Epoch 5/30\n",
      "2400/2400 [==============================] - 69s 29ms/step - loss: 0.6534 - acc: 0.6237 - val_loss: 0.6716 - val_acc: 0.5850\n",
      "Epoch 6/30\n",
      "2400/2400 [==============================] - 63s 26ms/step - loss: 0.6411 - acc: 0.6442 - val_loss: 0.6681 - val_acc: 0.5933\n",
      "Epoch 7/30\n",
      "2400/2400 [==============================] - 63s 26ms/step - loss: 0.6292 - acc: 0.6479 - val_loss: 0.6624 - val_acc: 0.6083\n",
      "Epoch 8/30\n",
      "2400/2400 [==============================] - 66s 27ms/step - loss: 0.6147 - acc: 0.6754 - val_loss: 0.6600 - val_acc: 0.6067\n",
      "Epoch 9/30\n",
      "2400/2400 [==============================] - 65s 27ms/step - loss: 0.6000 - acc: 0.6767 - val_loss: 0.6473 - val_acc: 0.6383\n",
      "Epoch 10/30\n",
      "2400/2400 [==============================] - 63s 26ms/step - loss: 0.5852 - acc: 0.6892 - val_loss: 0.6346 - val_acc: 0.6850\n",
      "Epoch 11/30\n",
      "2400/2400 [==============================] - 62s 26ms/step - loss: 0.5621 - acc: 0.7117 - val_loss: 0.6086 - val_acc: 0.6883\n",
      "Epoch 12/30\n",
      "2400/2400 [==============================] - 64s 26ms/step - loss: 0.5540 - acc: 0.7125 - val_loss: 0.5989 - val_acc: 0.7067\n",
      "Epoch 13/30\n",
      "2400/2400 [==============================] - 62s 26ms/step - loss: 0.5355 - acc: 0.7246 - val_loss: 0.5876 - val_acc: 0.7250\n",
      "Epoch 14/30\n",
      "2400/2400 [==============================] - 61s 25ms/step - loss: 0.5390 - acc: 0.7271 - val_loss: 0.6055 - val_acc: 0.7033\n",
      "Epoch 15/30\n",
      "2400/2400 [==============================] - 63s 26ms/step - loss: 0.5117 - acc: 0.7550 - val_loss: 0.5842 - val_acc: 0.7317\n",
      "Epoch 16/30\n",
      "2400/2400 [==============================] - 62s 26ms/step - loss: 0.5055 - acc: 0.7587 - val_loss: 0.5791 - val_acc: 0.7317\n",
      "Epoch 17/30\n",
      "2400/2400 [==============================] - 61s 25ms/step - loss: 0.4792 - acc: 0.7875 - val_loss: 0.6359 - val_acc: 0.7133\n",
      "Epoch 18/30\n",
      "2400/2400 [==============================] - 62s 26ms/step - loss: 0.4891 - acc: 0.7688 - val_loss: 0.6083 - val_acc: 0.7167\n",
      "Epoch 19/30\n",
      "2400/2400 [==============================] - 60s 25ms/step - loss: 0.4533 - acc: 0.7908 - val_loss: 0.5835 - val_acc: 0.7000\n",
      "Epoch 20/30\n",
      "2400/2400 [==============================] - 60s 25ms/step - loss: 0.4575 - acc: 0.7950 - val_loss: 0.5951 - val_acc: 0.7017\n",
      "Epoch 21/30\n",
      "2400/2400 [==============================] - 60s 25ms/step - loss: 0.4375 - acc: 0.8096 - val_loss: 0.5577 - val_acc: 0.7433\n",
      "Epoch 22/30\n",
      "2400/2400 [==============================] - 62s 26ms/step - loss: 0.4356 - acc: 0.8029 - val_loss: 0.5520 - val_acc: 0.7467\n",
      "Epoch 23/30\n",
      "2400/2400 [==============================] - 62s 26ms/step - loss: 0.4192 - acc: 0.8146 - val_loss: 0.6645 - val_acc: 0.6883\n",
      "Epoch 24/30\n",
      "2400/2400 [==============================] - 61s 25ms/step - loss: 0.4134 - acc: 0.8108 - val_loss: 0.5675 - val_acc: 0.7267\n",
      "Epoch 25/30\n",
      "2400/2400 [==============================] - 61s 26ms/step - loss: 0.4020 - acc: 0.8217 - val_loss: 0.5477 - val_acc: 0.7500\n",
      "Epoch 26/30\n",
      "2400/2400 [==============================] - 62s 26ms/step - loss: 0.3967 - acc: 0.8308 - val_loss: 0.5469 - val_acc: 0.7483\n",
      "Epoch 27/30\n",
      "2400/2400 [==============================] - 68s 28ms/step - loss: 0.3681 - acc: 0.8504 - val_loss: 0.5711 - val_acc: 0.7217\n",
      "Epoch 28/30\n",
      "2400/2400 [==============================] - 70s 29ms/step - loss: 0.3683 - acc: 0.8446 - val_loss: 0.5821 - val_acc: 0.7233\n",
      "Epoch 29/30\n",
      "2400/2400 [==============================] - 70s 29ms/step - loss: 0.3638 - acc: 0.8417 - val_loss: 0.5514 - val_acc: 0.7533\n",
      "Epoch 30/30\n",
      "2400/2400 [==============================] - 71s 30ms/step - loss: 0.3469 - acc: 0.8542 - val_loss: 0.5520 - val_acc: 0.7467\n"
     ]
    }
   ],
   "source": [
    "history = model.fit(train_seq_padded, y,\n",
    "                   epochs=30,\n",
    "                   batch_size=128,\n",
    "                   validation_split=0.2)"
   ]
  },
  {
   "cell_type": "code",
   "execution_count": 21,
   "metadata": {},
   "outputs": [],
   "source": [
    "#model1 = model"
   ]
  },
  {
   "cell_type": "code",
   "execution_count": 23,
   "metadata": {},
   "outputs": [
    {
     "name": "stdout",
     "output_type": "stream",
     "text": [
      "_________________________________________________________________\n",
      "Layer (type)                 Output Shape              Param #   \n",
      "=================================================================\n",
      "embedding_3 (Embedding)      (None, 2050, 200)         20000000  \n",
      "_________________________________________________________________\n",
      "gru_3 (GRU)                  (None, 2050, 32)          22368     \n",
      "_________________________________________________________________\n",
      "global_max_pooling1d_1 (Glob (None, 32)                0         \n",
      "_________________________________________________________________\n",
      "dense_2 (Dense)              (None, 1)                 33        \n",
      "=================================================================\n",
      "Total params: 20,022,401\n",
      "Trainable params: 22,401\n",
      "Non-trainable params: 20,000,000\n",
      "_________________________________________________________________\n"
     ]
    }
   ],
   "source": [
    "model = Sequential()\n",
    "model.add(layers.Embedding(max_words, embedding_dim, input_length=max_len))\n",
    "model.add(layers.GRU(32, return_sequences=True))\n",
    "model.add(layers.GlobalMaxPooling1D())\n",
    "model.add(layers.Dense(1, activation='sigmoid'))\n",
    "\n",
    "model.layers[0].set_weights([embedding_matrix])\n",
    "model.layers[0].trainable = False\n",
    "\n",
    "model.compile(optimizer='rmsprop',\n",
    "             loss='binary_crossentropy',\n",
    "             metrics=['acc'])\n",
    "\n",
    "model.summary()"
   ]
  },
  {
   "cell_type": "code",
   "execution_count": null,
   "metadata": {},
   "outputs": [
    {
     "name": "stdout",
     "output_type": "stream",
     "text": [
      "Train on 2400 samples, validate on 600 samples\n",
      "Epoch 1/30\n",
      "2400/2400 [==============================] - 69s 29ms/step - loss: 0.6813 - acc: 0.5746 - val_loss: 0.6722 - val_acc: 0.6133\n",
      "Epoch 2/30\n",
      "2400/2400 [==============================] - 72s 30ms/step - loss: 0.6585 - acc: 0.6458 - val_loss: 0.6601 - val_acc: 0.6667\n",
      "Epoch 3/30\n",
      "2400/2400 [==============================] - 70s 29ms/step - loss: 0.6384 - acc: 0.6800 - val_loss: 0.6399 - val_acc: 0.6767\n",
      "Epoch 4/30\n",
      "2400/2400 [==============================] - 75s 31ms/step - loss: 0.6191 - acc: 0.6938 - val_loss: 0.6262 - val_acc: 0.6983\n",
      "Epoch 5/30\n",
      "2400/2400 [==============================] - 71s 29ms/step - loss: 0.5962 - acc: 0.7121 - val_loss: 0.6081 - val_acc: 0.6950\n",
      "Epoch 6/30\n",
      "2400/2400 [==============================] - 73s 30ms/step - loss: 0.5805 - acc: 0.7196 - val_loss: 0.6037 - val_acc: 0.6967\n",
      "Epoch 7/30\n",
      "2400/2400 [==============================] - 74s 31ms/step - loss: 0.5613 - acc: 0.7379 - val_loss: 0.5816 - val_acc: 0.7133\n",
      "Epoch 8/30\n",
      "2400/2400 [==============================] - 64s 27ms/step - loss: 0.5411 - acc: 0.7583 - val_loss: 0.5701 - val_acc: 0.7267\n",
      "Epoch 9/30\n",
      "2400/2400 [==============================] - 65s 27ms/step - loss: 0.5210 - acc: 0.7592 - val_loss: 0.5472 - val_acc: 0.7383\n",
      "Epoch 10/30\n",
      "2400/2400 [==============================] - 67s 28ms/step - loss: 0.5079 - acc: 0.7704 - val_loss: 0.5383 - val_acc: 0.7233\n",
      "Epoch 11/30\n",
      "2400/2400 [==============================] - 79s 33ms/step - loss: 0.4875 - acc: 0.7842 - val_loss: 0.5191 - val_acc: 0.7317\n",
      "Epoch 12/30\n",
      "2400/2400 [==============================] - 82s 34ms/step - loss: 0.4703 - acc: 0.7871 - val_loss: 0.5087 - val_acc: 0.7533\n",
      "Epoch 13/30\n",
      "2400/2400 [==============================] - 85s 35ms/step - loss: 0.4617 - acc: 0.7913 - val_loss: 0.5248 - val_acc: 0.7483\n",
      "Epoch 14/30\n",
      "2400/2400 [==============================] - 82s 34ms/step - loss: 0.4490 - acc: 0.7946 - val_loss: 0.4964 - val_acc: 0.7450\n",
      "Epoch 15/30\n",
      "2400/2400 [==============================] - 83s 35ms/step - loss: 0.4346 - acc: 0.8038 - val_loss: 0.4818 - val_acc: 0.7767\n",
      "Epoch 16/30\n",
      "2400/2400 [==============================] - 80s 34ms/step - loss: 0.4189 - acc: 0.8113 - val_loss: 0.4771 - val_acc: 0.7683\n",
      "Epoch 17/30\n",
      "2400/2400 [==============================] - 80s 33ms/step - loss: 0.4169 - acc: 0.8175 - val_loss: 0.5015 - val_acc: 0.7683\n",
      "Epoch 18/30\n",
      "2400/2400 [==============================] - 79s 33ms/step - loss: 0.4114 - acc: 0.8162 - val_loss: 0.4782 - val_acc: 0.7717\n",
      "Epoch 19/30\n",
      "2400/2400 [==============================] - 80s 33ms/step - loss: 0.3990 - acc: 0.8250 - val_loss: 0.4639 - val_acc: 0.7783\n",
      "Epoch 20/30\n",
      "2400/2400 [==============================] - 79s 33ms/step - loss: 0.3901 - acc: 0.8246 - val_loss: 0.4650 - val_acc: 0.7850\n",
      "Epoch 21/30\n",
      "2304/2400 [===========================>..] - ETA: 2s - loss: 0.3721 - acc: 0.8468"
     ]
    }
   ],
   "source": [
    "history = model.fit(train_seq_padded, y,\n",
    "                   epochs=30,\n",
    "                   batch_size=128,\n",
    "                   validation_split=0.2)"
   ]
  },
  {
   "cell_type": "code",
   "execution_count": 30,
   "metadata": {},
   "outputs": [
    {
     "data": {
      "image/png": "[encoded data removed]",
      "text/plain": [
       "<Figure size 432x288 with 1 Axes>"
      ]
     },
     "metadata": {
      "needs_background": "light"
     },
     "output_type": "display_data"
    },
    {
     "data": {
      "image/png": "[encoded data removed]",
      "text/plain": [
       "<Figure size 432x288 with 1 Axes>"
      ]
     },
     "metadata": {
      "needs_background": "light"
     },
     "output_type": "display_data"
    }
   ],
   "source": [
    "plot_acc_loss(history)"
   ]
  },
  {
   "cell_type": "code",
   "execution_count": 31,
   "metadata": {},
   "outputs": [
    {
     "data": {
      "text/plain": [
       "0.7794736842105263"
      ]
     },
     "execution_count": 31,
     "metadata": {},
     "output_type": "execute_result"
    }
   ],
   "source": [
    "y_pred = model.predict_classes(test_seq_padded)\n",
    "accuracy_score(y_pred, y_test)"
   ]
  },
  {
   "cell_type": "code",
   "execution_count": null,
   "metadata": {},
   "outputs": [],
   "source": []
  }
 ],
 "metadata": {
  "kernelspec": {
   "display_name": "Python 3",
   "language": "python",
   "name": "python3"
  },
  "language_info": {
   "codemirror_mode": {
    "name": "ipython",
    "version": 3
   },
   "file_extension": ".py",
   "mimetype": "text/x-python",
   "name": "python",
   "nbconvert_exporter": "python",
   "pygments_lexer": "ipython3",
   "version": "3.6.6"
  }
 },
 "nbformat": 4,
 "nbformat_minor": 2
}
