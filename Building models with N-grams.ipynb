{
 "cells": [
  {
   "cell_type": "code",
   "execution_count": 1,
   "metadata": {},
   "outputs": [],
   "source": [
    "import pandas as pd\n",
    "import numpy as np\n",
    "from sklearn.linear_model import LogisticRegression\n",
    "from sklearn.model_selection import cross_val_score\n",
    "from sklearn.feature_extraction.text import TfidfVectorizer\n",
    "from sklearn.feature_extraction.text import CountVectorizer\n",
    "from sklearn.preprocessing import LabelEncoder\n",
    "import re\n",
    "from nltk import TweetTokenizer\n",
    "from scipy.sparse import hstack"
   ]
  },
  {
   "cell_type": "code",
   "execution_count": 2,
   "metadata": {},
   "outputs": [],
   "source": [
    "data = pd.read_csv('Tweets_concated_row.csv')"
   ]
  },
  {
   "cell_type": "code",
   "execution_count": 3,
   "metadata": {},
   "outputs": [
    {
     "data": {
      "text/html": [
       "<div>\n",
       "<style scoped>\n",
       "    .dataframe tbody tr th:only-of-type {\n",
       "        vertical-align: middle;\n",
       "    }\n",
       "\n",
       "    .dataframe tbody tr th {\n",
       "        vertical-align: top;\n",
       "    }\n",
       "\n",
       "    .dataframe thead th {\n",
       "        text-align: right;\n",
       "    }\n",
       "</style>\n",
       "<table border=\"1\" class=\"dataframe\">\n",
       "  <thead>\n",
       "    <tr style=\"text-align: right;\">\n",
       "      <th></th>\n",
       "      <th>gender</th>\n",
       "      <th>tweet</th>\n",
       "    </tr>\n",
       "  </thead>\n",
       "  <tbody>\n",
       "    <tr>\n",
       "      <th>0</th>\n",
       "      <td>male</td>\n",
       "      <td>one to watch … \\r\\r\\navailable on 10th feb. ht...</td>\n",
       "    </tr>\n",
       "    <tr>\n",
       "      <th>1</th>\n",
       "      <td>female</td>\n",
       "      <td>are we living in a holographic universe? new s...</td>\n",
       "    </tr>\n",
       "    <tr>\n",
       "      <th>2</th>\n",
       "      <td>female</td>\n",
       "      <td>museum focus, but still great pieces of advice...</td>\n",
       "    </tr>\n",
       "    <tr>\n",
       "      <th>3</th>\n",
       "      <td>female</td>\n",
       "      <td>best half time show ever! &lt;eot&gt; @jannarden  no...</td>\n",
       "    </tr>\n",
       "    <tr>\n",
       "      <th>4</th>\n",
       "      <td>male</td>\n",
       "      <td>does this mean @waitakereunited are top of the...</td>\n",
       "    </tr>\n",
       "  </tbody>\n",
       "</table>\n",
       "</div>"
      ],
      "text/plain": [
       "   gender                                              tweet\n",
       "0    male  one to watch … \\r\\r\\navailable on 10th feb. ht...\n",
       "1  female  are we living in a holographic universe? new s...\n",
       "2  female  museum focus, but still great pieces of advice...\n",
       "3  female  best half time show ever! <eot> @jannarden  no...\n",
       "4    male  does this mean @waitakereunited are top of the..."
      ]
     },
     "execution_count": 3,
     "metadata": {},
     "output_type": "execute_result"
    }
   ],
   "source": [
    "data.head()"
   ]
  },
  {
   "cell_type": "code",
   "execution_count": 5,
   "metadata": {},
   "outputs": [
    {
     "data": {
      "text/plain": [
       "\"one to watch … \\r\\r\\navailable on 10th feb. https://t.co/l1fox1yg9o <eot> @kirkj @deleifd there are 3 complete sets in each box of batman minifigs. find two others who want all the figs and buy a box between you. 🤘 <eot> @deleifd if you have 1, 3, (maybe 5), 10 or 14, we can come to some arrangement. 👍 <eot> @deleifd i've heard that numerous other toyworlds are still numbering, despite the warning. damn it. i'm only after 6 of the 20. <eot> just heard about a new web dev meetup in the hutt. spread the good word!\\r\\r\\nhttps://t.co/blggndgpup <eot> hullo. anyone have a travel rest pillow i could borrow for a long trip? <eot> @emstrx my face is one big ache after a dental visit. i'm off home to eat mush. <eot> @julianwoodhouse thanks for that! \\r\\r\\ncc @mr_orgue <eot> hmm, that’s just wgtn. \\r\\r\\nfor hutt, try https://t.co/o5tuokofcq... &gt; tap layers icon (bottom left) &gt; tap tsunami zone option. cc @mr_orgue <eot> @kirkj thankyou kirk! i’d seen the maps in your first link, but not this second one. \\\\m/ cc @mr_orgue <eot> anyone know where i might find some decent resolution tsunami zone maps for wellington &amp; hutt?\\r\\r\\ncc: @koordinates <eot> @sereeena i’ve just put some slayer on the stereo here. \\r\\r\\n\\r\\r\\n༼ノಠل͟ಠ༽ノ-︵-┻━┻ <eot> stunned white guy retweets. https://t.co/0mvz3rilg4 <eot> @bpujji someone very near and dear to me, who may or may not have wanted to be named. <eot> introduced someone to lemon jelly. yussss (highest five to @freddeakin) <eot> @jarred hi faive. <eot> @jarred what the font is saying harriet display italic (bold?) <eot> started off the day with freebird. followed by don’t fear the reaper. up next: the entirety of deep purple’s machine head. #rockinprototypin <eot> @hellomisspotter ahh, didn’t know you’d moved. enjoy! <eot> @hellomisspotter crossfit hutt valley (petone/alicetown border) is well recommended by folk i know well. good community. <eot> @microsoftnz i was thinking more https://t.co/kscimvljxt <eot> @_d___d_ it's no actually all that great. weather depending. 😉 <eot> @theraromachine @_grafik get these instead! https://t.co/iyxxtkhkgj mmmmmmmmm. <eot> @lizyjoy there will be trouble ahead. this is going to embolden militant sorts. <eot> a lot of knee jerking on the tweets today. the surface pro video makes me really miss the drafting table. the macbook pro looks like fun. <eot> @nzjames it came with a copy of a starwars lego magazine available in the uk, that a friend kindly sent me. i’d like about 30 more myself! <eot> welcomed a new addition to the family today. so cute! https://t.co/m2x06uzkqx <eot> @four_seven it's a mystery adventure thingy! <eot> @actionfigured that's great! liking your corners too. good touch. <eot> @katedarby_ heya. are you still looking for a bestawards ticket? cc @kirstigrant <eot> @nwmetro so you know, no sign of the free farmed ham. just got told “no.” <eot> @br4dy congratulations on the community board position, fella. very promising council vote too. playing the long game 🤘 <eot> looking forward to getting out to the @designmeetupnz designpro event tonight! i’ve not been out for aaaages. well, since steve krug anyhow. <eot> @sereeena not seeing the context for this. you okay? <eot> @sourcecraft heh. well spotted. <eot> @craighamnett you are correct in the sense that i'm not able to level up. hugs for you 'n' g. <eot> playing @kerretta on the big speakers to kickstart the day in the office. perfect. <eot> @aliseflannery heya alise. if you do need a hand with creative event stuff, i'd be keen to chat. cheers :) <eot> @uxpaul @dafttom @femkesvs three wonderful talented people. 😊 <eot> @nwmetro ✋\\r\\r\\nhere’s a customer vote for free-farmed/free-range ham in your deli. <eot> @dafttom i want these things!! so cool.\\r\\r\\n@reasonsto @uxpaul @femkesvs <eot> after yesterday’s specific hunger … the yummly email today is bringing it home. https://t.co/pd7t6k95js <eot> @hannahcooknz heh, not been to the colonial for years! <eot> @hannahcooknz i appreciate your fine eye for quality bacon though. :) <eot> @hannahcooknz tasty bacon, tiny bread &amp; long way from me right now … :( <eot> where, o wellington, are your fine bacon sandwiches? <eot> @jamesmacfie @jamiepenney end of an era! thanks for being awesome during my time there... and quite possibly since then too. 🤘🏻 <eot> check me out doing shit with git. rebase’n the production master deploy push’n’pull checkout something or other. winning! #igotthis #um <eot> @iamkey i have that pain too. <eot> master of puppets, full album, out loud, at work. yup. 👍 <eot> @deleifd oooooooh! very jealous! cc @skruff <eot> @nobu_tary hmm. very careful use of superglue could help get it out... or could ruin the piece more. <eot> @reignofapril @swissmiss cosmo also posted this … https://t.co/hzwi69nktp <eot> design disruptors\\r\\r\\nscreening tonight @ the embassy.\\r\\r\\nhttps://t.co/jecxcy4agt\\r\\r\\n(get tickets online, not on door) <eot> @gemzina spotted your tweet on pokémon hunting in petone. for future reference : https://t.co/1w2ne62iww <eot> @mexisme @jethrocarr spotted your tweet on pokémon hunting in petone. for future reference : https://t.co/1w2ne62iww <eot> @ethernetsalad spotted your tweet on pokémon hunting in petone. for future reference : https://t.co/1w2ne62iww <eot> @br4dy spotted your tweet on pokémon hunting in petone. for future reference : https://t.co/1w2ne62iww <eot> @seanmccabe i’ll just leave this here for you … https://t.co/1w2ne62iww <eot> @kingmuckraker yup, that’s right, a sandwich. term comes from it being buttered bread. <eot> if someone wants to go ahead and arrange warm blankets, bacon butties and beers on petone foreshore tonight, i’m going pokémon hunting. \\r\\r\\n👍 <eot> @belkincares thanks for that. is it only the difference in time to charge, or are there other considerations? <eot> @belkincares heya. should my new belkin power pack 6000 charge from a macbookpro usb port, or does it have to be via a wall power socket? <eot> @prototypealex hey fella. the plugin is out there in the world now \\\\m/ <eot> @hamillhimself hey fella. hope you now get to have that milk chocolate hob nob biscuit. <eot> design disruptors is coming!\\r\\r\\n\\r\\r\\nwgtn 20 july\\r\\r\\nhttps://t.co/jecxcy4agt\\r\\r\\ncc @designmeetupnz \\r\\r\\n\\r\\r\\nauck 22 july\\r\\r\\nhttps://t.co/xjnjbvnhd6\\r\\r\\ncc @wearealmond <eot> @_d___d_ noteburner? or is handbreak enough? <eot> @nzjames @yakmoose damn the skies! can’t be honest -and- have the good things. <eot> @yakmoose @nzjames even my latest purchases have it. <eot> itunes is terrible, so i got set up on plex media server… except all my itunes purchases won’t play due to drm (!?!)\\r\\r\\ntips / alternatives? <eot> hey @sparknz you can expect another angry letter of complaint from me later tonight. <eot> have you any recommendations for portable battery chargers?\\r\\r\\nhttps://t.co/oelr2nb63k \\r\\r\\ni had a shoddy one which was useful… but short lived. <eot> @resn_has_no_i @dsgnassemblynz @jadeshearstone thanks for the film screening retweet you lot :) much appreciated. <eot> @jacobbuck ... and here's this https://t.co/jecxcy4agt <eot> q1. do any of the folks on the @space_station have vader / trooper masks for video calls?\\r\\r\\n\\r\\r\\nq2. does anyone at @nasa dress up as the emperor? <eot> seeing out the working week with the pixies. #workstories \\r\\r\\nhttps://t.co/zj5ccmzifx <eot> @paxatron @danserif that drop shadow … is powerful. <eot> @blacklightpix cheers for the retweet 😀 <eot> @esteeayceeeewhy appreciate you sharing that event tweet, stacey ✊🏼 <eot> @caspianievers thanks for sharing this stuff, fella 👍🏼 <eot> @danserif cheers for spreading word, fella :) <eot> @idealogmag @designmeetupnz @dsgnassemblynz @designersinst worth me mentioning in case it’s worth a mention … https://t.co/yzpbfpbc9a <eot> design disruptors’ nz premiere at wellington’s embassy theatre, 20 july &gt; https://t.co/jecxcy4agt please help spread the good word 🤘🏿 <eot> led zep blasting yesterday and today started with the kinks but finishing with lots of the cure and now some sisters of mercy. #workstories <eot> @hellomisspotter not-so-oddly enough it’s the first time i’ve looked at a barbie and -considered- buying one for one of my kids. <eot> this. https://t.co/byxiire42f <eot> @iamkey yeah bruh, bring it in for a brug. i need one on that topic too. still strikes a raw nerve 25yrs on. <eot> @jecharlottee @thomaslebas i’ve deleted and reposted the tweet with the correct url, thanks \\\\m/ <eot> @thibaultmichel_ i sent a note to designassembly and they’re now keen to show it too :) <eot> @jecharlottee @thomaslebas cheers you two! <eot> designers of wgtn! design film https://t.co/56cowoa8ms will be screening here on wed 20 july. details here: https://t.co/fggauvgjtj …pls rt. <eot> @nzben @kirkj @szechuan @yakmoose @rarchbarch it'll likely cost one billion dollars, but still... keen on that and the new yellow submarine. <eot> designers &amp; disruptors of wellington: i’ll be screening https://t.co/tvlm7xgq6w on wed 20 july. details here: https://t.co/fggauvgjtj \\\\m/ <eot> good morning wellington. i've not used the harbour ferry before. can you just jump on and get a ticket, or do you have to go to an office? <eot> @buildmaster @untappd … did this involve pre-loading? <eot> @we_are_atomic @usepanda teamwork!! double high fives!! https://t.co/6x2iil4mkq <eot> @camillenette nice to see you while out and about :) <eot> @actionfigured it's not due to hit nz til september :( <eot> @tashmahal merits and faults. <eot> @tashmahal ... but i like the other : criticism - the analysis and judgement of the merits and faults of a literary or artistic work.\""
      ]
     },
     "execution_count": 5,
     "metadata": {},
     "output_type": "execute_result"
    }
   ],
   "source": [
    "data.tweet[0]"
   ]
  },
  {
   "cell_type": "code",
   "execution_count": 4,
   "metadata": {},
   "outputs": [],
   "source": [
    "data['tweet'] = data.tweet.apply(lambda x: re.sub(r\"\\B@\\w+\", \"<user>\", x))\n",
    "data['tweet'] = data.tweet.apply(lambda x: re.sub('http\\S+\\s*', '<url>', x))"
   ]
  },
  {
   "cell_type": "code",
   "execution_count": 5,
   "metadata": {},
   "outputs": [],
   "source": [
    "y = data.copy().gender\n",
    "X = data.copy().tweet"
   ]
  },
  {
   "cell_type": "markdown",
   "metadata": {},
   "source": [
    "## Trying Char N-Grams"
   ]
  },
  {
   "cell_type": "code",
   "execution_count": 15,
   "metadata": {},
   "outputs": [],
   "source": [
    "tfidf_vectorizer_Char2_6 = TfidfVectorizer(\n",
    "            lowercase=True,\n",
    "            sublinear_tf=True,\n",
    "            strip_accents='unicode',\n",
    "            analyzer='char',\n",
    "            ngram_range=(2, 6),\n",
    "            max_features=15000)"
   ]
  },
  {
   "cell_type": "code",
   "execution_count": 16,
   "metadata": {},
   "outputs": [],
   "source": [
    "X_char_2_6 = tfidf_vectorizer_Char2_6.fit_transform(X)"
   ]
  },
  {
   "cell_type": "code",
   "execution_count": 18,
   "metadata": {},
   "outputs": [
    {
     "name": "stderr",
     "output_type": "stream",
     "text": [
      "C:\\Users\\Simeon\\Anaconda3\\envs\\First\\lib\\site-packages\\sklearn\\model_selection\\_split.py:1943: FutureWarning: You should specify a value for 'cv' instead of relying on the default value. The default value will change from 3 to 5 in version 0.22.\n",
      "  warnings.warn(CV_WARNING, FutureWarning)\n",
      "C:\\Users\\Simeon\\Anaconda3\\envs\\First\\lib\\site-packages\\sklearn\\linear_model\\logistic.py:432: FutureWarning: Default solver will be changed to 'lbfgs' in 0.22. Specify a solver to silence this warning.\n",
      "  FutureWarning)\n"
     ]
    }
   ],
   "source": [
    "cv_results = cross_val_score(LogisticRegression(), X_char_2_6, y)"
   ]
  },
  {
   "cell_type": "code",
   "execution_count": 19,
   "metadata": {},
   "outputs": [
    {
     "name": "stdout",
     "output_type": "stream",
     "text": [
      "Char 2-6 CV Mean: 0.793333 std: 0.015861\n"
     ]
    }
   ],
   "source": [
    "print('Char 2-6 CV Mean: %f std: %f'%(np.mean(cv_results), np.std(cv_results)))"
   ]
  },
  {
   "cell_type": "code",
   "execution_count": 20,
   "metadata": {},
   "outputs": [
    {
     "name": "stderr",
     "output_type": "stream",
     "text": [
      "C:\\Users\\Simeon\\Anaconda3\\envs\\First\\lib\\site-packages\\sklearn\\model_selection\\_split.py:1943: FutureWarning: You should specify a value for 'cv' instead of relying on the default value. The default value will change from 3 to 5 in version 0.22.\n",
      "  warnings.warn(CV_WARNING, FutureWarning)\n",
      "C:\\Users\\Simeon\\Anaconda3\\envs\\First\\lib\\site-packages\\sklearn\\linear_model\\logistic.py:432: FutureWarning: Default solver will be changed to 'lbfgs' in 0.22. Specify a solver to silence this warning.\n",
      "  FutureWarning)\n"
     ]
    },
    {
     "name": "stdout",
     "output_type": "stream",
     "text": [
      "Char 2-6 CV Mean: 0.789000 std: 0.014765\n"
     ]
    }
   ],
   "source": [
    "tfidf_vectorizer_Char2_6 = TfidfVectorizer(\n",
    "            lowercase=True,\n",
    "            sublinear_tf=True,\n",
    "            strip_accents='unicode',\n",
    "            analyzer='char',\n",
    "            ngram_range=(2, 6),\n",
    "            max_features=10000)\n",
    "X_char_2_6 = tfidf_vectorizer_Char2_6.fit_transform(X)\n",
    "cv_results = cross_val_score(LogisticRegression(), X_char_2_6, y)\n",
    "print('Char 2-6 CV Mean: %f std: %f'%(np.mean(cv_results), np.std(cv_results)))"
   ]
  },
  {
   "cell_type": "code",
   "execution_count": 21,
   "metadata": {},
   "outputs": [
    {
     "name": "stderr",
     "output_type": "stream",
     "text": [
      "C:\\Users\\Simeon\\Anaconda3\\envs\\First\\lib\\site-packages\\sklearn\\model_selection\\_split.py:1943: FutureWarning: You should specify a value for 'cv' instead of relying on the default value. The default value will change from 3 to 5 in version 0.22.\n",
      "  warnings.warn(CV_WARNING, FutureWarning)\n",
      "C:\\Users\\Simeon\\Anaconda3\\envs\\First\\lib\\site-packages\\sklearn\\linear_model\\logistic.py:432: FutureWarning: Default solver will be changed to 'lbfgs' in 0.22. Specify a solver to silence this warning.\n",
      "  FutureWarning)\n"
     ]
    },
    {
     "name": "stdout",
     "output_type": "stream",
     "text": [
      "Char 2-6 CV Mean: 0.793333 std: 0.015628\n"
     ]
    }
   ],
   "source": [
    "tfidf_vectorizer_Char1_6 = TfidfVectorizer(\n",
    "            lowercase=True,\n",
    "            sublinear_tf=True,\n",
    "            strip_accents='unicode',\n",
    "            analyzer='char',\n",
    "            ngram_range=(1, 6),\n",
    "            max_features=15000)\n",
    "X_char_1_6 = tfidf_vectorizer_Char1_6.fit_transform(X)\n",
    "cv_results = cross_val_score(LogisticRegression(), X_char_1_6, y)\n",
    "print('Char 1-6 CV Mean: %f std: %f'%(np.mean(cv_results), np.std(cv_results)))"
   ]
  },
  {
   "cell_type": "code",
   "execution_count": 33,
   "metadata": {},
   "outputs": [
    {
     "name": "stderr",
     "output_type": "stream",
     "text": [
      "C:\\Users\\Simeon\\Anaconda3\\envs\\First\\lib\\site-packages\\sklearn\\model_selection\\_split.py:1943: FutureWarning: You should specify a value for 'cv' instead of relying on the default value. The default value will change from 3 to 5 in version 0.22.\n",
      "  warnings.warn(CV_WARNING, FutureWarning)\n",
      "C:\\Users\\Simeon\\Anaconda3\\envs\\First\\lib\\site-packages\\sklearn\\linear_model\\logistic.py:432: FutureWarning: Default solver will be changed to 'lbfgs' in 0.22. Specify a solver to silence this warning.\n",
      "  FutureWarning)\n"
     ]
    },
    {
     "name": "stdout",
     "output_type": "stream",
     "text": [
      "Char 3-5 CV Mean: 0.799333 std: 0.013888\n"
     ]
    }
   ],
   "source": [
    "tfidf_vectorizer_Char3_5 = TfidfVectorizer(\n",
    "            lowercase=True,\n",
    "            sublinear_tf=True,\n",
    "            strip_accents='unicode',\n",
    "            analyzer='char',\n",
    "            ngram_range=(3, 5),\n",
    "            max_features=15000)\n",
    "X_char_3_5 = tfidf_vectorizer_Char3_5.fit_transform(X)\n",
    "cv_results = cross_val_score(LogisticRegression(), X_char_3_5, y)\n",
    "print('Char 3-5 CV Mean: %f std: %f'%(np.mean(cv_results), np.std(cv_results)))"
   ]
  },
  {
   "cell_type": "code",
   "execution_count": 27,
   "metadata": {},
   "outputs": [
    {
     "name": "stderr",
     "output_type": "stream",
     "text": [
      "C:\\Users\\Simeon\\Anaconda3\\envs\\First\\lib\\site-packages\\sklearn\\model_selection\\_split.py:1943: FutureWarning: You should specify a value for 'cv' instead of relying on the default value. The default value will change from 3 to 5 in version 0.22.\n",
      "  warnings.warn(CV_WARNING, FutureWarning)\n",
      "C:\\Users\\Simeon\\Anaconda3\\envs\\First\\lib\\site-packages\\sklearn\\linear_model\\logistic.py:432: FutureWarning: Default solver will be changed to 'lbfgs' in 0.22. Specify a solver to silence this warning.\n",
      "  FutureWarning)\n"
     ]
    },
    {
     "name": "stdout",
     "output_type": "stream",
     "text": [
      "Char 1-6 CV Mean: 0.749667 std: 0.004714\n"
     ]
    }
   ],
   "source": [
    "ctv = CountVectorizer(analyzer='word',\n",
    "                    token_pattern=r'\\w{1,}',\n",
    "                    ngram_range=(2, 6),\n",
    "                    max_features=15000)\n",
    "X_char_2_6 = ctv.fit_transform(X)\n",
    "cv_results = cross_val_score(LogisticRegression(), X_char_2_6, y)\n",
    "print('Char 2-6 CV Mean: %f std: %f'%(np.mean(cv_results), np.std(cv_results)))"
   ]
  },
  {
   "cell_type": "code",
   "execution_count": 28,
   "metadata": {},
   "outputs": [
    {
     "name": "stderr",
     "output_type": "stream",
     "text": [
      "C:\\Users\\Simeon\\Anaconda3\\envs\\First\\lib\\site-packages\\sklearn\\model_selection\\_split.py:1943: FutureWarning: You should specify a value for 'cv' instead of relying on the default value. The default value will change from 3 to 5 in version 0.22.\n",
      "  warnings.warn(CV_WARNING, FutureWarning)\n",
      "C:\\Users\\Simeon\\Anaconda3\\envs\\First\\lib\\site-packages\\sklearn\\linear_model\\logistic.py:432: FutureWarning: Default solver will be changed to 'lbfgs' in 0.22. Specify a solver to silence this warning.\n",
      "  FutureWarning)\n"
     ]
    },
    {
     "name": "stdout",
     "output_type": "stream",
     "text": [
      "Char 2-6 CV Mean: 0.741333 std: 0.007318\n"
     ]
    }
   ],
   "source": [
    "ctv = CountVectorizer(analyzer='word',\n",
    "                    token_pattern=r'\\w{1,}',\n",
    "                    ngram_range=(2, 6),\n",
    "                    max_features=10000)\n",
    "X_char_2_6 = ctv.fit_transform(X)\n",
    "cv_results = cross_val_score(LogisticRegression(), X_char_2_6, y)\n",
    "print('Char 2-6 CV Mean: %f std: %f'%(np.mean(cv_results), np.std(cv_results)))"
   ]
  },
  {
   "cell_type": "markdown",
   "metadata": {},
   "source": [
    "## Trying word N-grams"
   ]
  },
  {
   "cell_type": "code",
   "execution_count": 16,
   "metadata": {},
   "outputs": [],
   "source": [
    "tweetTokenizer = TweetTokenizer()"
   ]
  },
  {
   "cell_type": "code",
   "execution_count": 29,
   "metadata": {},
   "outputs": [
    {
     "name": "stderr",
     "output_type": "stream",
     "text": [
      "C:\\Users\\Simeon\\Anaconda3\\envs\\First\\lib\\site-packages\\sklearn\\model_selection\\_split.py:1943: FutureWarning: You should specify a value for 'cv' instead of relying on the default value. The default value will change from 3 to 5 in version 0.22.\n",
      "  warnings.warn(CV_WARNING, FutureWarning)\n",
      "C:\\Users\\Simeon\\Anaconda3\\envs\\First\\lib\\site-packages\\sklearn\\linear_model\\logistic.py:432: FutureWarning: Default solver will be changed to 'lbfgs' in 0.22. Specify a solver to silence this warning.\n",
      "  FutureWarning)\n"
     ]
    },
    {
     "name": "stdout",
     "output_type": "stream",
     "text": [
      "Word 1-3 Grams CV Mean: 0.805333 std: 0.021792\n"
     ]
    }
   ],
   "source": [
    "tfidf_vectorizer = TfidfVectorizer(\n",
    "                sublinear_tf=True,\n",
    "                strip_accents='unicode',\n",
    "                analyzer='word',\n",
    "                tokenizer=tweetTokenizer.tokenize,\n",
    "                ngram_range=(1, 3),\n",
    "                max_features=10000)\n",
    "X_vect = tfidf_vectorizer.fit_transform(X)\n",
    "cv_results = cross_val_score(LogisticRegression(), X_vect, y)\n",
    "print('Word 1-3 Grams CV Mean: %f std: %f'%(np.mean(cv_results), np.std(cv_results)))"
   ]
  },
  {
   "cell_type": "code",
   "execution_count": 30,
   "metadata": {},
   "outputs": [
    {
     "name": "stderr",
     "output_type": "stream",
     "text": [
      "C:\\Users\\Simeon\\Anaconda3\\envs\\First\\lib\\site-packages\\sklearn\\model_selection\\_split.py:1943: FutureWarning: You should specify a value for 'cv' instead of relying on the default value. The default value will change from 3 to 5 in version 0.22.\n",
      "  warnings.warn(CV_WARNING, FutureWarning)\n",
      "C:\\Users\\Simeon\\Anaconda3\\envs\\First\\lib\\site-packages\\sklearn\\linear_model\\logistic.py:432: FutureWarning: Default solver will be changed to 'lbfgs' in 0.22. Specify a solver to silence this warning.\n",
      "  FutureWarning)\n"
     ]
    },
    {
     "name": "stdout",
     "output_type": "stream",
     "text": [
      "Word 1-3 Grams CV Mean: 0.777333 std: 0.014197\n"
     ]
    }
   ],
   "source": [
    "tfidf_vectorizer = CountVectorizer(\n",
    "                strip_accents='unicode',\n",
    "                analyzer='word',\n",
    "                tokenizer=tweetTokenizer.tokenize,\n",
    "                ngram_range=(1, 3),\n",
    "                max_features=10000)\n",
    "X_vect = tfidf_vectorizer.fit_transform(X)\n",
    "cv_results = cross_val_score(LogisticRegression(), X_vect, y)\n",
    "print('Word 1-3 Grams CV Mean: %f std: %f'%(np.mean(cv_results), np.std(cv_results)))"
   ]
  },
  {
   "cell_type": "markdown",
   "metadata": {},
   "source": [
    "# Char N-grams + Word N-grams"
   ]
  },
  {
   "cell_type": "code",
   "execution_count": 32,
   "metadata": {},
   "outputs": [
    {
     "name": "stderr",
     "output_type": "stream",
     "text": [
      "C:\\Users\\Simeon\\Anaconda3\\envs\\First\\lib\\site-packages\\sklearn\\model_selection\\_split.py:1943: FutureWarning: You should specify a value for 'cv' instead of relying on the default value. The default value will change from 3 to 5 in version 0.22.\n",
      "  warnings.warn(CV_WARNING, FutureWarning)\n",
      "C:\\Users\\Simeon\\Anaconda3\\envs\\First\\lib\\site-packages\\sklearn\\linear_model\\logistic.py:432: FutureWarning: Default solver will be changed to 'lbfgs' in 0.22. Specify a solver to silence this warning.\n",
      "  FutureWarning)\n"
     ]
    },
    {
     "name": "stdout",
     "output_type": "stream",
     "text": [
      "Word 1-3-Grams + Char 2-6-Grams CV Mean: 0.814667 std: 0.016938\n"
     ]
    }
   ],
   "source": [
    "tfidf_vectorizer = TfidfVectorizer(\n",
    "                sublinear_tf=True,\n",
    "                strip_accents='unicode',\n",
    "                analyzer='word',\n",
    "                tokenizer=tweetTokenizer.tokenize,\n",
    "                ngram_range=(1, 3),\n",
    "                max_features=10000)\n",
    "X_vect = tfidf_vectorizer.fit_transform(X)\n",
    "\n",
    "tfidf_vectorizer_Char2_6 = TfidfVectorizer(\n",
    "            lowercase=True,\n",
    "            sublinear_tf=True,\n",
    "            strip_accents='unicode',\n",
    "            analyzer='char',\n",
    "            ngram_range=(2, 6),\n",
    "            max_features=10000)\n",
    "X_char_2_6 = tfidf_vectorizer_Char2_6.fit_transform(X)\n",
    "cv_results = cross_val_score(LogisticRegression(), hstack([X_vect,X_char_2_6]), y)\n",
    "print('Word 1-3-Grams + Char 2-6-Grams CV Mean: %f std: %f'%(np.mean(cv_results), np.std(cv_results)))"
   ]
  },
  {
   "cell_type": "markdown",
   "metadata": {},
   "source": [
    "# Using LSA for dim reducing"
   ]
  },
  {
   "cell_type": "code",
   "execution_count": 8,
   "metadata": {},
   "outputs": [],
   "source": [
    "from sklearn.decomposition import TruncatedSVD\n",
    "from sklearn.preprocessing import Normalizer"
   ]
  },
  {
   "cell_type": "markdown",
   "metadata": {},
   "source": [
    "# Word N-grams"
   ]
  },
  {
   "cell_type": "code",
   "execution_count": 17,
   "metadata": {},
   "outputs": [],
   "source": [
    "tfidf_vectorizer = TfidfVectorizer(\n",
    "                sublinear_tf=True,\n",
    "                strip_accents='unicode',\n",
    "                analyzer='word',\n",
    "                tokenizer=tweetTokenizer.tokenize,\n",
    "                ngram_range=(1, 3),\n",
    "                max_features=15000)\n",
    "X_vect = tfidf_vectorizer.fit_transform(X)\n"
   ]
  },
  {
   "cell_type": "code",
   "execution_count": 18,
   "metadata": {},
   "outputs": [
    {
     "data": {
      "text/plain": [
       "TruncatedSVD(algorithm='randomized', n_components=300, n_iter=7,\n",
       "       random_state=42, tol=0.0)"
      ]
     },
     "execution_count": 18,
     "metadata": {},
     "output_type": "execute_result"
    }
   ],
   "source": [
    "svd_words = TruncatedSVD(n_components=300, n_iter=7, random_state=42)\n",
    "svd_words.fit(X_vect)"
   ]
  },
  {
   "cell_type": "code",
   "execution_count": 19,
   "metadata": {},
   "outputs": [],
   "source": [
    "X_vect_svd = svd_words.transform(X_vect)\n"
   ]
  },
  {
   "cell_type": "code",
   "execution_count": 20,
   "metadata": {},
   "outputs": [
    {
     "name": "stdout",
     "output_type": "stream",
     "text": [
      "Word 1-3-Grams with SVD (comp=300): 0.807000 std: 0.021463\n"
     ]
    },
    {
     "name": "stderr",
     "output_type": "stream",
     "text": [
      "C:\\Users\\Simeon\\Anaconda3\\envs\\First\\lib\\site-packages\\sklearn\\model_selection\\_split.py:1943: FutureWarning: You should specify a value for 'cv' instead of relying on the default value. The default value will change from 3 to 5 in version 0.22.\n",
      "  warnings.warn(CV_WARNING, FutureWarning)\n",
      "C:\\Users\\Simeon\\Anaconda3\\envs\\First\\lib\\site-packages\\sklearn\\linear_model\\logistic.py:432: FutureWarning: Default solver will be changed to 'lbfgs' in 0.22. Specify a solver to silence this warning.\n",
      "  FutureWarning)\n",
      "C:\\Users\\Simeon\\Anaconda3\\envs\\First\\lib\\site-packages\\sklearn\\linear_model\\logistic.py:432: FutureWarning: Default solver will be changed to 'lbfgs' in 0.22. Specify a solver to silence this warning.\n",
      "  FutureWarning)\n",
      "C:\\Users\\Simeon\\Anaconda3\\envs\\First\\lib\\site-packages\\sklearn\\linear_model\\logistic.py:432: FutureWarning: Default solver will be changed to 'lbfgs' in 0.22. Specify a solver to silence this warning.\n",
      "  FutureWarning)\n"
     ]
    }
   ],
   "source": [
    "cv_results = cross_val_score(LogisticRegression(), X_vect_svd, y)\n",
    "print('Word 1-3-Grams with SVD (comp=300): %f std: %f'%(np.mean(cv_results), np.std(cv_results)))"
   ]
  },
  {
   "cell_type": "code",
   "execution_count": 21,
   "metadata": {},
   "outputs": [
    {
     "name": "stderr",
     "output_type": "stream",
     "text": [
      "C:\\Users\\Simeon\\Anaconda3\\envs\\First\\lib\\site-packages\\sklearn\\model_selection\\_split.py:1943: FutureWarning: You should specify a value for 'cv' instead of relying on the default value. The default value will change from 3 to 5 in version 0.22.\n",
      "  warnings.warn(CV_WARNING, FutureWarning)\n",
      "C:\\Users\\Simeon\\Anaconda3\\envs\\First\\lib\\site-packages\\sklearn\\linear_model\\logistic.py:432: FutureWarning: Default solver will be changed to 'lbfgs' in 0.22. Specify a solver to silence this warning.\n",
      "  FutureWarning)\n",
      "C:\\Users\\Simeon\\Anaconda3\\envs\\First\\lib\\site-packages\\sklearn\\linear_model\\logistic.py:432: FutureWarning: Default solver will be changed to 'lbfgs' in 0.22. Specify a solver to silence this warning.\n",
      "  FutureWarning)\n",
      "C:\\Users\\Simeon\\Anaconda3\\envs\\First\\lib\\site-packages\\sklearn\\linear_model\\logistic.py:432: FutureWarning: Default solver will be changed to 'lbfgs' in 0.22. Specify a solver to silence this warning.\n",
      "  FutureWarning)\n"
     ]
    },
    {
     "name": "stdout",
     "output_type": "stream",
     "text": [
      "Word 1-3-Grams with SVD (comp=300), normalized: 0.812667 std: 0.017327\n"
     ]
    }
   ],
   "source": [
    "X_vect_svd_norm = Normalizer().fit_transform(X_vect_svd)\n",
    "cv_results = cross_val_score(LogisticRegression(), X_vect_svd_norm, y)\n",
    "print('Word 1-3-Grams with SVD (comp=300), normalized: %f std: %f'%(np.mean(cv_results), np.std(cv_results)))"
   ]
  },
  {
   "cell_type": "markdown",
   "metadata": {},
   "source": [
    "## Char N grams "
   ]
  },
  {
   "cell_type": "code",
   "execution_count": 6,
   "metadata": {},
   "outputs": [],
   "source": [
    "tfidf_vectorizer_Char2_6 = TfidfVectorizer(\n",
    "            lowercase=True,\n",
    "            sublinear_tf=True,\n",
    "            strip_accents='unicode',\n",
    "            analyzer='char',\n",
    "            ngram_range=(2, 6),\n",
    "            max_features=15000)\n",
    "X_char_2_6 = tfidf_vectorizer_Char2_6.fit_transform(X)"
   ]
  },
  {
   "cell_type": "code",
   "execution_count": 9,
   "metadata": {},
   "outputs": [],
   "source": [
    "svd_chars = TruncatedSVD(n_components=300, n_iter=7, random_state=42)\n",
    "svd_chars.fit(X_char_2_6)\n",
    "X_vect_svd_char = svd_chars.transform(X_char_2_6)"
   ]
  },
  {
   "cell_type": "code",
   "execution_count": 10,
   "metadata": {},
   "outputs": [
    {
     "name": "stdout",
     "output_type": "stream",
     "text": [
      "Word 1-3-Grams with SVD (comp=300): 0.800000 std: 0.018493\n"
     ]
    },
    {
     "name": "stderr",
     "output_type": "stream",
     "text": [
      "C:\\Users\\Simeon\\Anaconda3\\envs\\First\\lib\\site-packages\\sklearn\\model_selection\\_split.py:1943: FutureWarning: You should specify a value for 'cv' instead of relying on the default value. The default value will change from 3 to 5 in version 0.22.\n",
      "  warnings.warn(CV_WARNING, FutureWarning)\n",
      "C:\\Users\\Simeon\\Anaconda3\\envs\\First\\lib\\site-packages\\sklearn\\linear_model\\logistic.py:432: FutureWarning: Default solver will be changed to 'lbfgs' in 0.22. Specify a solver to silence this warning.\n",
      "  FutureWarning)\n",
      "C:\\Users\\Simeon\\Anaconda3\\envs\\First\\lib\\site-packages\\sklearn\\linear_model\\logistic.py:432: FutureWarning: Default solver will be changed to 'lbfgs' in 0.22. Specify a solver to silence this warning.\n",
      "  FutureWarning)\n",
      "C:\\Users\\Simeon\\Anaconda3\\envs\\First\\lib\\site-packages\\sklearn\\linear_model\\logistic.py:432: FutureWarning: Default solver will be changed to 'lbfgs' in 0.22. Specify a solver to silence this warning.\n",
      "  FutureWarning)\n"
     ]
    }
   ],
   "source": [
    "cv_results = cross_val_score(LogisticRegression(), X_vect_svd_char, y)\n",
    "print('Char 2-6-Grams with SVD (comp=300): %f std: %f'%(np.mean(cv_results), np.std(cv_results)))"
   ]
  },
  {
   "cell_type": "code",
   "execution_count": 14,
   "metadata": {},
   "outputs": [
    {
     "name": "stderr",
     "output_type": "stream",
     "text": [
      "C:\\Users\\Simeon\\Anaconda3\\envs\\First\\lib\\site-packages\\sklearn\\model_selection\\_split.py:1943: FutureWarning: You should specify a value for 'cv' instead of relying on the default value. The default value will change from 3 to 5 in version 0.22.\n",
      "  warnings.warn(CV_WARNING, FutureWarning)\n",
      "C:\\Users\\Simeon\\Anaconda3\\envs\\First\\lib\\site-packages\\sklearn\\linear_model\\logistic.py:432: FutureWarning: Default solver will be changed to 'lbfgs' in 0.22. Specify a solver to silence this warning.\n",
      "  FutureWarning)\n",
      "C:\\Users\\Simeon\\Anaconda3\\envs\\First\\lib\\site-packages\\sklearn\\linear_model\\logistic.py:432: FutureWarning: Default solver will be changed to 'lbfgs' in 0.22. Specify a solver to silence this warning.\n",
      "  FutureWarning)\n",
      "C:\\Users\\Simeon\\Anaconda3\\envs\\First\\lib\\site-packages\\sklearn\\linear_model\\logistic.py:432: FutureWarning: Default solver will be changed to 'lbfgs' in 0.22. Specify a solver to silence this warning.\n",
      "  FutureWarning)\n"
     ]
    },
    {
     "name": "stdout",
     "output_type": "stream",
     "text": [
      "Char 2-6-Grams with SVD (comp=300), normalized: 0.806000 std: 0.017907\n"
     ]
    }
   ],
   "source": [
    "X_vect_svd_char_norm = Normalizer().fit_transform(X_vect_svd_char)\n",
    "cv_results = cross_val_score(LogisticRegression(), X_vect_svd_char_norm, y)\n",
    "print('Char 2-6-Grams with SVD (comp=300), normalized: %f std: %f'%(np.mean(cv_results), np.std(cv_results)))"
   ]
  },
  {
   "cell_type": "code",
   "execution_count": 28,
   "metadata": {},
   "outputs": [
    {
     "data": {
      "text/plain": [
       "(3000, 300)"
      ]
     },
     "execution_count": 28,
     "metadata": {},
     "output_type": "execute_result"
    }
   ],
   "source": [
    "X_vect_svd_char_norm.shape"
   ]
  },
  {
   "cell_type": "code",
   "execution_count": 31,
   "metadata": {},
   "outputs": [
    {
     "data": {
      "text/plain": [
       "numpy.ndarray"
      ]
     },
     "execution_count": 31,
     "metadata": {},
     "output_type": "execute_result"
    }
   ],
   "source": [
    "type(X_vect_svd_norm)"
   ]
  },
  {
   "cell_type": "code",
   "execution_count": 29,
   "metadata": {},
   "outputs": [
    {
     "data": {
      "text/plain": [
       "(3000, 300)"
      ]
     },
     "execution_count": 29,
     "metadata": {},
     "output_type": "execute_result"
    }
   ],
   "source": [
    "X_vect_svd_norm.shape"
   ]
  },
  {
   "cell_type": "code",
   "execution_count": 33,
   "metadata": {},
   "outputs": [
    {
     "data": {
      "text/plain": [
       "(3000, 600)"
      ]
     },
     "execution_count": 33,
     "metadata": {},
     "output_type": "execute_result"
    }
   ],
   "source": [
    "np.hstack([X_vect_svd_norm, X_vect_svd_char_norm]).shape"
   ]
  },
  {
   "cell_type": "markdown",
   "metadata": {},
   "source": [
    "## Word svd + Char svd "
   ]
  },
  {
   "cell_type": "code",
   "execution_count": 34,
   "metadata": {},
   "outputs": [
    {
     "name": "stderr",
     "output_type": "stream",
     "text": [
      "C:\\Users\\Simeon\\Anaconda3\\envs\\First\\lib\\site-packages\\sklearn\\model_selection\\_split.py:1943: FutureWarning: You should specify a value for 'cv' instead of relying on the default value. The default value will change from 3 to 5 in version 0.22.\n",
      "  warnings.warn(CV_WARNING, FutureWarning)\n",
      "C:\\Users\\Simeon\\Anaconda3\\envs\\First\\lib\\site-packages\\sklearn\\linear_model\\logistic.py:432: FutureWarning: Default solver will be changed to 'lbfgs' in 0.22. Specify a solver to silence this warning.\n",
      "  FutureWarning)\n",
      "C:\\Users\\Simeon\\Anaconda3\\envs\\First\\lib\\site-packages\\sklearn\\linear_model\\logistic.py:432: FutureWarning: Default solver will be changed to 'lbfgs' in 0.22. Specify a solver to silence this warning.\n",
      "  FutureWarning)\n"
     ]
    },
    {
     "name": "stdout",
     "output_type": "stream",
     "text": [
      "Char 2-6-Grams with SVD (comp=300), normalized: 0.821333 std: 0.014817\n"
     ]
    },
    {
     "name": "stderr",
     "output_type": "stream",
     "text": [
      "C:\\Users\\Simeon\\Anaconda3\\envs\\First\\lib\\site-packages\\sklearn\\linear_model\\logistic.py:432: FutureWarning: Default solver will be changed to 'lbfgs' in 0.22. Specify a solver to silence this warning.\n",
      "  FutureWarning)\n"
     ]
    }
   ],
   "source": [
    "cv_results = cross_val_score(LogisticRegression(),\n",
    "                             np.hstack([X_vect_svd_norm, X_vect_svd_char_norm]), y)\n",
    "print('Char 2-6-Grams with SVD (comp=300), normalized: %f std: %f'%(np.mean(cv_results), np.std(cv_results)))"
   ]
  },
  {
   "cell_type": "markdown",
   "metadata": {},
   "source": [
    "# Check the accuracy on the test data"
   ]
  },
  {
   "cell_type": "code",
   "execution_count": 36,
   "metadata": {},
   "outputs": [],
   "source": [
    "test_data = pd.read_csv('test_tweets_row.csv')\n",
    "test_data['tweet'] = test_data.tweet.apply(lambda x: re.sub(r\"\\B@\\w+\", \"<user>\", x))\n",
    "test_data['tweet'] = test_data.tweet.apply(lambda x: re.sub('http\\S+\\s*', '<url>', x))"
   ]
  },
  {
   "cell_type": "code",
   "execution_count": 37,
   "metadata": {},
   "outputs": [],
   "source": [
    "X_test = test_data.tweet\n",
    "y_test = test_data.gender"
   ]
  },
  {
   "cell_type": "code",
   "execution_count": 38,
   "metadata": {},
   "outputs": [],
   "source": [
    "test_word_vect = tfidf_vectorizer.transform(X_test)\n",
    "test_word_svd  = svd_words.transform(test_word_vect)\n",
    "svd_word_normalizer = Normalizer()\n",
    "svd_word_normalizer.fit(X_vect_svd)\n",
    "test_word_svd_norm = svd_word_normalizer.transform(test_word_svd)"
   ]
  },
  {
   "cell_type": "code",
   "execution_count": 44,
   "metadata": {},
   "outputs": [],
   "source": [
    "test_char_vect = tfidf_vectorizer_Char2_6.transform(X_test)\n",
    "test_char_svd = svd_chars.transform(test_char_vect)\n",
    "svd_char_normalizer = Normalizer()\n",
    "svd_char_normalizer.fit(X_vect_svd_char)\n",
    "test_char_svd_norm = svd_char_normalizer.transform(test_char_svd)"
   ]
  },
  {
   "cell_type": "code",
   "execution_count": 39,
   "metadata": {},
   "outputs": [
    {
     "name": "stderr",
     "output_type": "stream",
     "text": [
      "C:\\Users\\Simeon\\Anaconda3\\envs\\First\\lib\\site-packages\\sklearn\\linear_model\\logistic.py:432: FutureWarning: Default solver will be changed to 'lbfgs' in 0.22. Specify a solver to silence this warning.\n",
      "  FutureWarning)\n"
     ]
    },
    {
     "data": {
      "text/plain": [
       "LogisticRegression(C=1.0, class_weight=None, dual=False, fit_intercept=True,\n",
       "          intercept_scaling=1, max_iter=100, multi_class='warn',\n",
       "          n_jobs=None, penalty='l2', random_state=None, solver='warn',\n",
       "          tol=0.0001, verbose=0, warm_start=False)"
      ]
     },
     "execution_count": 39,
     "metadata": {},
     "output_type": "execute_result"
    }
   ],
   "source": [
    "lr = LogisticRegression()\n",
    "lr.fit(np.hstack([X_vect_svd_norm, X_vect_svd_char_norm]), y)"
   ]
  },
  {
   "cell_type": "code",
   "execution_count": 46,
   "metadata": {},
   "outputs": [
    {
     "data": {
      "text/plain": [
       "0.87"
      ]
     },
     "execution_count": 46,
     "metadata": {},
     "output_type": "execute_result"
    }
   ],
   "source": [
    "lr.score(np.hstack([X_vect_svd_norm, X_vect_svd_char_norm]), y)"
   ]
  },
  {
   "cell_type": "code",
   "execution_count": 45,
   "metadata": {},
   "outputs": [
    {
     "data": {
      "text/plain": [
       "0.8221052631578948"
      ]
     },
     "execution_count": 45,
     "metadata": {},
     "output_type": "execute_result"
    }
   ],
   "source": [
    "lr.score(np.hstack([test_word_svd_norm, test_char_svd_norm]), y_test)"
   ]
  }
 ],
 "metadata": {
  "kernelspec": {
   "display_name": "Python 3",
   "language": "python",
   "name": "python3"
  },
  "language_info": {
   "codemirror_mode": {
    "name": "ipython",
    "version": 3
   },
   "file_extension": ".py",
   "mimetype": "text/x-python",
   "name": "python",
   "nbconvert_exporter": "python",
   "pygments_lexer": "ipython3",
   "version": "3.6.6"
  }
 },
 "nbformat": 4,
 "nbformat_minor": 2
}
